{
 "cells": [
  {
   "cell_type": "code",
   "execution_count": 1,
   "id": "3448d348",
   "metadata": {},
   "outputs": [],
   "source": [
    "import matplotlib.pyplot as plt\n",
    "import numpy as np\n",
    "import pandas as pd\n",
    "from sklearn.cluster import KMeans\n",
    "from scipy.spatial import distance\n",
    "from scipy.sparse import csr_matrix\n",
    "from scipy.sparse.csgraph import minimum_spanning_tree\n",
    "from scipy.spatial.distance import pdist\n",
    "from numpy.linalg import norm "
   ]
  },
  {
   "cell_type": "markdown",
   "id": "b583d73e",
   "metadata": {},
   "source": [
    "# import n-by-2 matrix as csv file"
   ]
  },
  {
   "cell_type": "code",
   "execution_count": 2,
   "id": "30d14f48",
   "metadata": {},
   "outputs": [],
   "source": [
    "data = pd.read_csv(\"matrixnby2.csv\")"
   ]
  },
  {
   "cell_type": "code",
   "execution_count": 3,
   "id": "5423183d",
   "metadata": {},
   "outputs": [],
   "source": [
    "matrix = np.array(data)"
   ]
  },
  {
   "cell_type": "markdown",
   "id": "71e3bf8f",
   "metadata": {},
   "source": [
    "# Kmeans to identify clusters and plot "
   ]
  },
  {
   "cell_type": "code",
   "execution_count": 4,
   "id": "c79890be",
   "metadata": {},
   "outputs": [],
   "source": [
    "#kmeans to identify clusters\n",
    "kmeans = KMeans(n_clusters=3)\n",
    "kmeans.fit(matrix)\n",
    "y_kmeans = kmeans.predict(matrix)"
   ]
  },
  {
   "cell_type": "code",
   "execution_count": 5,
   "id": "609a6994",
   "metadata": {},
   "outputs": [
    {
     "data": {
      "text/plain": [
       "<matplotlib.collections.PathCollection at 0x7f87902c3430>"
      ]
     },
     "execution_count": 5,
     "metadata": {},
     "output_type": "execute_result"
    },
    {
     "data": {
      "image/png": "[encoded data removed]",
      "text/plain": [
       "<Figure size 432x288 with 1 Axes>"
      ]
     },
     "metadata": {
      "needs_background": "light"
     },
     "output_type": "display_data"
    }
   ],
   "source": [
    "#plot clusters and cluster centers\n",
    "plt.scatter(matrix[:, 0], matrix[:, 1], c=y_kmeans)\n",
    "centers = kmeans.cluster_centers_\n",
    "plt.scatter(centers[:, 0], centers[:, 1], c='black', s=200, alpha=0.5)"
   ]
  },
  {
   "cell_type": "code",
   "execution_count": 6,
   "id": "759a5179",
   "metadata": {},
   "outputs": [
    {
     "data": {
      "text/plain": [
       "array([[420.16619534,  61.14760682],\n",
       "       [228.55623072, 171.48278094],\n",
       "       [193.65413298,  65.39694807]])"
      ]
     },
     "execution_count": 6,
     "metadata": {},
     "output_type": "execute_result"
    }
   ],
   "source": [
    "centers"
   ]
  },
  {
   "cell_type": "markdown",
   "id": "e8bdf6c2",
   "metadata": {},
   "source": [
    "# MST"
   ]
  },
  {
   "cell_type": "code",
   "execution_count": 7,
   "id": "7881e457",
   "metadata": {},
   "outputs": [
    {
     "data": {
      "text/plain": [
       "array([221.10682755, 226.55191744, 111.67972225])"
      ]
     },
     "execution_count": 7,
     "metadata": {},
     "output_type": "execute_result"
    }
   ],
   "source": [
    "distances_edges = pdist(centers, 'euclidean')\n",
    "distances_edges"
   ]
  },
  {
   "cell_type": "code",
   "execution_count": 8,
   "id": "5862740b",
   "metadata": {},
   "outputs": [
    {
     "name": "stdout",
     "output_type": "stream",
     "text": [
      "[[  0.         221.10682755 226.55191744]\n",
      " [  0.           0.         111.67972225]\n",
      " [  0.           0.           0.        ]]\n"
     ]
    }
   ],
   "source": [
    "#generate matrix of nodes and edges \n",
    "edge_matrix = np.zeros((len(centers), len(centers)))\n",
    "\n",
    "for i in range(len(centers)-1):\n",
    "    for j in range(i+1, len(centers)):\n",
    "        edge_matrix[i][j] = distance.euclidean(centers[i],centers[j])\n",
    "        \n",
    "print(edge_matrix)\n",
    "\n"
   ]
  },
  {
   "cell_type": "code",
   "execution_count": 9,
   "id": "996adefb",
   "metadata": {},
   "outputs": [
    {
     "data": {
      "text/plain": [
       "array([[  0, 221,   0],\n",
       "       [  0,   0, 111],\n",
       "       [  0,   0,   0]])"
      ]
     },
     "execution_count": 9,
     "metadata": {},
     "output_type": "execute_result"
    }
   ],
   "source": [
    "matrix_mst = csr_matrix(edge_matrix + edge_matrix.T) #generate adjacency matrix for MST\n",
    "MST = minimum_spanning_tree(matrix_mst)\n",
    "MST.toarray().astype(int) #MST matrix"
   ]
  },
  {
   "cell_type": "code",
   "execution_count": 10,
   "id": "ad3030cb",
   "metadata": {},
   "outputs": [
    {
     "name": "stdout",
     "output_type": "stream",
     "text": [
      "[(420.1661953448468, 228.5562307183207), (420.1661953448468, 193.6541329799528), (228.5562307183207, 193.6541329799528)] [(61.14760681999695, 171.48278093609517), (61.14760681999695, 65.39694806682456), (171.48278093609517, 65.39694806682456)]\n"
     ]
    }
   ],
   "source": [
    "#find x and y for plotting the edges\n",
    "x = []\n",
    "y = []\n",
    "for i in range(len(centers)):\n",
    "    for j in range(i+1, len(centers)):\n",
    "        x_points = (centers[i][0], centers[j][0])\n",
    "        y_points = (centers[i][1], centers[j][1])\n",
    "        x.append(x_points)\n",
    "        y.append(y_points)\n",
    "print(x,y)"
   ]
  },
  {
   "cell_type": "code",
   "execution_count": 11,
   "id": "eba2a5dc",
   "metadata": {},
   "outputs": [
    {
     "data": {
      "text/plain": [
       "(array([0, 1], dtype=int32), array([1, 2], dtype=int32))"
      ]
     },
     "execution_count": 11,
     "metadata": {},
     "output_type": "execute_result"
    }
   ],
   "source": [
    "#looking for non-zero elements of the MST matrix\n",
    "MST.nonzero()"
   ]
  },
  {
   "cell_type": "code",
   "execution_count": 12,
   "id": "5b843c3e",
   "metadata": {},
   "outputs": [
    {
     "data": {
      "image/png": "[encoded data removed]",
      "text/plain": [
       "<Figure size 432x288 with 1 Axes>"
      ]
     },
     "metadata": {
      "needs_background": "light"
     },
     "output_type": "display_data"
    }
   ],
   "source": [
    "plt.scatter(matrix[:, 0], matrix[:, 1], c=y_kmeans)\n",
    "centers = kmeans.cluster_centers_\n",
    "plt.scatter(centers[:, 0], centers[:, 1], c='black', s=200, alpha=0.5)\n",
    "\n",
    "#deciding edges according to the MST matrix\n",
    "plt.plot(x[0], y[0])\n",
    "plt.plot(x[2], y[2])\n",
    "\n",
    "plt.show()"
   ]
  },
  {
   "cell_type": "markdown",
   "id": "0c244e77",
   "metadata": {},
   "source": [
    "# Projection"
   ]
  },
  {
   "cell_type": "code",
   "execution_count": 13,
   "id": "50a39e6a",
   "metadata": {},
   "outputs": [
    {
     "data": {
      "text/plain": [
       "array([2, 2, 2, 2, 2, 1, 1, 1, 1, 1, 1, 1, 1, 1, 2, 2, 2, 1, 1, 1, 2, 2,\n",
       "       1, 1, 2, 0, 0, 0, 0, 0, 0, 0, 1, 0, 0, 0, 0, 0, 0, 0, 0, 0, 0, 0,\n",
       "       0, 0, 0, 2, 0, 0, 0, 0, 0, 0, 0], dtype=int32)"
      ]
     },
     "execution_count": 13,
     "metadata": {},
     "output_type": "execute_result"
    }
   ],
   "source": [
    "#find the labels to identify cells in different clusters\n",
    "labels = kmeans.labels_\n",
    "labels"
   ]
  },
  {
   "cell_type": "code",
   "execution_count": 14,
   "id": "c04e4e92",
   "metadata": {},
   "outputs": [],
   "source": [
    "#find the position of each cell\n",
    "c1_points_position = list(np.where(labels == 0)[0])\n",
    "c2_points_position = list(np.where(labels == 1)[0])\n",
    "c3_points_position = list(np.where(labels == 2)[0])\n",
    "\n",
    "#find the edges that connect two cluster centers\n",
    "v12 = centers[0].reshape(-1,1)-centers[1].reshape(-1,1)\n",
    "v23 = centers[1].reshape(-1,1)-centers[2].reshape(-1,1)"
   ]
  },
  {
   "cell_type": "code",
   "execution_count": 15,
   "id": "f39b99a3",
   "metadata": {},
   "outputs": [
    {
     "name": "stdout",
     "output_type": "stream",
     "text": [
      "[array([[0.00395431]]), array([[0.00960116]]), array([[-0.35212579]]), array([[0.08973641]]), array([[0.19268215]]), array([[-0.07294123]]), array([[-0.10863541]]), array([[-0.28700199]]), array([[0.32297039]]), array([[0.09769786]]), array([[-0.03526459]]), array([[-0.12802909]]), array([[0.07974798]]), array([[-0.13189416]]), array([[0.25218505]]), array([[-0.0026714]]), array([[-0.10894625]]), array([[0.42546877]]), array([[-0.16829604]]), array([[-0.24055951]]), array([[-0.16163172]]), array([[-0.00159383]]), array([[-0.25419463]]), array([[0.05486897]]), array([[0.57781553]]), array([[-0.24350048]]), array([[-0.15923228]]), array([[0.34978982]])]\n"
     ]
    }
   ],
   "source": [
    "#projection for cluster 1\n",
    "project_value_list1 = []\n",
    "for ele in c1_points_position:\n",
    "    x1 = matrix[ele].reshape(-1,1)  - centers[0].reshape(-1,1)\n",
    "    project_value1 = (x1.T@(v12))/(v12.T@v12)\n",
    "    project_value_list1.append(project_value1)\n",
    "print(project_value_list1)"
   ]
  },
  {
   "cell_type": "code",
   "execution_count": 16,
   "id": "202b3801",
   "metadata": {},
   "outputs": [
    {
     "name": "stdout",
     "output_type": "stream",
     "text": [
      "[array([[-0.29128752]]), array([[0.41399976]]), array([[-0.44663936]]), array([[-0.58605259]]), array([[-0.60265963]]), array([[0.15557242]]), array([[0.32382014]]), array([[0.40291662]]), array([[0.43398872]]), array([[0.00398902]]), array([[0.28705854]]), array([[-0.09470611]])]\n"
     ]
    }
   ],
   "source": [
    "#projection for cluster 3\n",
    "project_value_list3 = []\n",
    "for ele in c3_points_position:\n",
    "    x3 = matrix[ele].reshape(-1,1) - centers[2].reshape(-1,1)\n",
    "    project_value3 = (x3.T@(v23))/(v23.T@v23)\n",
    "    project_value_list3.append(project_value3)\n",
    "print(project_value_list3)"
   ]
  },
  {
   "cell_type": "code",
   "execution_count": 17,
   "id": "7dac809c",
   "metadata": {},
   "outputs": [],
   "source": [
    "#projection for cluster 2\n",
    "project_value_list21 = []\n",
    "project_value_list23 = []\n",
    "for ele in c2_points_position:\n",
    "    d1 = np.linalg.norm(matrix[ele] - centers[0])\n",
    "    d2 = np.linalg.norm(matrix[ele] - centers[2])\n",
    "    x2 = matrix[ele].reshape(-1,1) - centers[1].reshape(-1,1)\n",
    "    if d1 < d2:\n",
    "        project_value21 = (x2.T@(v12))/(v12.T@v12)\n",
    "        project_value_list21.append(project_value21)\n",
    "    else:\n",
    "        project_value23 = (x2.T@(v23))/(v23.T@v23)\n",
    "        project_value_list23.append(project_value23)\n"
   ]
  },
  {
   "cell_type": "code",
   "execution_count": 18,
   "id": "d049fe53",
   "metadata": {},
   "outputs": [
    {
     "data": {
      "text/plain": [
       "array([[ 2,  7, 22, 25, 19, 18, 20, 26, 13, 11, 16,  6,  5, 10, 15, 21,\n",
       "         0,  1, 23, 12,  3,  9,  4, 14,  8, 27, 17, 24]])"
      ]
     },
     "execution_count": 18,
     "metadata": {},
     "output_type": "execute_result"
    }
   ],
   "source": [
    "#find the cell order\n",
    "cell_order_c1 = np.argsort(np.array(project_value_list1).reshape(1, -1))\n",
    "cell_order_c1"
   ]
  },
  {
   "cell_type": "code",
   "execution_count": 19,
   "id": "8b11099e",
   "metadata": {},
   "outputs": [
    {
     "data": {
      "text/plain": [
       "array([27])"
      ]
     },
     "execution_count": 19,
     "metadata": {},
     "output_type": "execute_result"
    }
   ],
   "source": [
    "cell_order_c21 = np.argsort(np.array(project_value_list21).reshape(1, -1))\n",
    "cell_order_c2_combine21 = cell_order_c21[0]+max(cell_order_c1[0])\n",
    "cell_order_c2_combine21"
   ]
  },
  {
   "cell_type": "code",
   "execution_count": 20,
   "id": "0cf76966",
   "metadata": {},
   "outputs": [
    {
     "data": {
      "text/plain": [
       "array([34, 40, 39, 27, 37, 33, 32, 35, 38, 28, 29, 36, 30, 31])"
      ]
     },
     "execution_count": 20,
     "metadata": {},
     "output_type": "execute_result"
    }
   ],
   "source": [
    "cell_order_c23 = np.argsort(np.array(project_value_list23).reshape(1, -1))\n",
    "cell_order_c2_combine23 = cell_order_c23[0]+max(cell_order_c2_combine21)\n",
    "cell_order_c2_combine23"
   ]
  },
  {
   "cell_type": "code",
   "execution_count": 21,
   "id": "9f7714ac",
   "metadata": {},
   "outputs": [
    {
     "data": {
      "text/plain": [
       "array([44, 43, 42, 40, 51, 49, 45, 50, 46, 47, 41, 48])"
      ]
     },
     "execution_count": 21,
     "metadata": {},
     "output_type": "execute_result"
    }
   ],
   "source": [
    "cell_order_c3 = np.argsort(np.array(project_value_list3).reshape(1, -1))\n",
    "cell_order_c3_combine = cell_order_c3[0]+max(cell_order_c2_combine23)\n",
    "cell_order_c3_combine"
   ]
  },
  {
   "cell_type": "code",
   "execution_count": 22,
   "id": "3f5a08c0",
   "metadata": {},
   "outputs": [],
   "source": [
    "c1 = [matrix[item] for item in c1_points_position]\n",
    "c2 = [matrix[item] for item in c2_points_position]\n",
    "c3 = [matrix[item] for item in c3_points_position]"
   ]
  },
  {
   "cell_type": "code",
   "execution_count": 23,
   "id": "f3ff3146",
   "metadata": {},
   "outputs": [],
   "source": [
    "pt_x = np.hstack(( cell_order_c1[0],cell_order_c2_combine21,cell_order_c2_combine23,cell_order_c3_combine )).ravel()\n",
    "pt_y = c1+ c2+ c3"
   ]
  },
  {
   "cell_type": "code",
   "execution_count": 24,
   "id": "3ca59410",
   "metadata": {},
   "outputs": [
    {
     "data": {
      "text/plain": [
       "array([[454.09535588, 118.31746453, 407.1690976 ,  34.3224615 ,\n",
       "        349.63998206,  94.69340057, 460.19787043,  90.90614523,\n",
       "        468.70395971,  60.06391076, 419.13761514,  91.68076475,\n",
       "        432.57799523, 130.83723674, 364.35838038,  91.39803021,\n",
       "        483.37733946,  27.81675663, 430.87951129,  36.46375173,\n",
       "        404.8286722 ,  50.13752704, 402.26137345,  86.78198151,\n",
       "        426.44557557,  36.71708493, 315.57759643, -62.04199185,\n",
       "        457.27211557,  13.84613369, 417.62891523,  57.92499001,\n",
       "        450.89338067, 162.78177774, 486.73281572, -11.77190631,\n",
       "        391.41503044,  85.78785264, 406.90982895, 144.71548791,\n",
       "        349.29104557,   9.68173051, 387.66562229,   5.41276113,\n",
       "        356.05736479,  62.44578484, 448.0659329 ,  85.28697066,\n",
       "        514.07330937, -31.79500458, 366.96213684,  76.64474558,\n",
       "        393.37185798,  85.17006387, 519.0637885 ,  77.907079  ,\n",
       "        222.23515236, 130.98192413, 240.03841112, 192.0601727 ,\n",
       "        221.14924462, 200.88775243, 230.70463861, 220.99905429,\n",
       "        237.54873967, 248.44672655, 200.18578595, 178.82173562,\n",
       "        224.71294773, 165.15554265, 212.97466056, 119.74894502,\n",
       "        231.63073304, 176.20091936, 206.42074521, 221.11273061,\n",
       "        217.92971195, 161.07077768, 236.05795373, 182.47687523,\n",
       "        226.25903176, 128.92054698, 204.06465105, 123.06275568,\n",
       "        316.43105342, 122.29525514, 146.05921911,  46.80935238,\n",
       "        138.61457883, 132.17825012, 147.67426021,  28.01351062,\n",
       "        106.42558153,  25.19365606, 149.69746296,   9.00479896,\n",
       "        234.90411285,  70.11618801, 220.94576689,  94.48910949,\n",
       "        235.66570337,  98.94553066, 226.71853318, 105.54224091,\n",
       "        227.74249091,  54.65090716, 203.84264209,  95.79400629,\n",
       "        285.55924383,  24.02582614]])"
      ]
     },
     "execution_count": 24,
     "metadata": {},
     "output_type": "execute_result"
    }
   ],
   "source": [
    "y_values = np.array(pt_y).reshape(1,-1)\n",
    "y_values"
   ]
  },
  {
   "cell_type": "code",
   "execution_count": 25,
   "id": "68bf177b",
   "metadata": {},
   "outputs": [
    {
     "name": "stdout",
     "output_type": "stream",
     "text": [
      "[454.0953558849136, 407.1690975988548, 349.6399820639059, 460.1978704287384, 468.7039597089194, 419.1376151425485, 432.57799523268017, 364.3583803823681, 483.3773394591933, 430.8795112855517, 404.82867219751785, 402.2613734480569, 426.4455755748765, 315.5775964275779, 457.27211556664525, 417.6289152329975, 450.893380673764, 486.732815722118, 391.41503043861024, 406.90982894532107, 349.2910455683775, 387.6656222851868, 356.05736478864367, 448.06593290326407, 514.0733093741366, 366.9621368436939, 393.3718579795952, 519.0637884976541, 222.2351523619629, 240.0384111223048, 221.1492446243644, 230.70463860659805, 237.54873967047936, 200.185785954486, 224.71294772969927, 212.9746605552941, 231.6307330391538, 206.42074521306688, 217.9297119490128, 236.057953727036, 226.25903176026824, 204.0646510454136, 316.43105341567014, 146.05921911460712, 138.61457883077284, 147.67426020843277, 106.42558152510176, 149.69746295734984, 234.90411284662792, 220.94576689375293, 235.6657033667078, 226.7185331842973, 227.742490911014, 203.8426420928137, 285.5592438279555] [118.31746452910672, 34.32246149640399, 94.69340057349558, 90.90614523246416, 60.063910763053, 91.68076475003484, 130.83723673971537, 91.3980302096666, 27.81675662937059, 36.463751726463904, 50.13752703990125, 86.78198151219549, 36.71708493048206, -62.04199185261213, 13.846133689348072, 57.924990012156016, 162.781777735801, -11.771906312897627, 85.78785263540188, 144.7154879079785, 9.681730505095068, 5.412761132834568, 62.44578484023637, 85.28697066136462, -31.795004577204253, 76.64474558002104, 85.1700638652525, 77.90707900478534, 130.98192413279406, 192.06017269561735, 200.887752429458, 220.9990542854024, 248.44672655101203, 178.8217356167299, 165.15554264926735, 119.74894501533755, 176.2009193550698, 221.1127306108993, 161.07077767893222, 182.47687522916067, 128.92054697653478, 123.062755680156, 122.29525513505622, 46.80935238340935, 132.1782501152126, 28.013510620078986, 25.193656057209694, 9.004798960287587, 70.11618800858369, 94.48910949192576, 98.94553065787132, 105.5422409147342, 54.65090715837448, 95.79400629491782, 24.02582613928924]\n"
     ]
    }
   ],
   "source": [
    "ordered_x = []\n",
    "ordered_y = []\n",
    "for i in range(len(pt_y)):\n",
    "    o_x = pt_y[i][0]\n",
    "    o_y = pt_y[i][1]\n",
    "    ordered_x.append(o_x)\n",
    "    ordered_y.append(o_y)\n",
    "print(ordered_x,ordered_y)"
   ]
  },
  {
   "cell_type": "code",
   "execution_count": 26,
   "id": "e8600482",
   "metadata": {},
   "outputs": [
    {
     "data": {
      "text/plain": [
       "[<matplotlib.lines.Line2D at 0x7f87705f1850>]"
      ]
     },
     "execution_count": 26,
     "metadata": {},
     "output_type": "execute_result"
    },
    {
     "data": {
      "image/png": "[encoded data removed]",
      "text/plain": [
       "<Figure size 432x288 with 1 Axes>"
      ]
     },
     "metadata": {
      "needs_background": "light"
     },
     "output_type": "display_data"
    }
   ],
   "source": [
    "#plot the pseudotime by x\n",
    "plt.scatter(pt_x, ordered_x)\n",
    "mx,bx = np.polyfit(pt_x, ordered_x, 1)\n",
    "plt.plot(pt_x, mx*pt_x+bx)"
   ]
  },
  {
   "cell_type": "code",
   "execution_count": 27,
   "id": "4e1ac7cc",
   "metadata": {},
   "outputs": [
    {
     "data": {
      "text/plain": [
       "[<matplotlib.lines.Line2D at 0x7f8783f19670>]"
      ]
     },
     "execution_count": 27,
     "metadata": {},
     "output_type": "execute_result"
    },
    {
     "data": {
      "image/png": "[encoded data removed]",
      "text/plain": [
       "<Figure size 432x288 with 1 Axes>"
      ]
     },
     "metadata": {
      "needs_background": "light"
     },
     "output_type": "display_data"
    }
   ],
   "source": [
    "#plot the pseudotime by y\n",
    "plt.scatter(pt_x, ordered_y)\n",
    "my,by = np.polyfit(pt_x, ordered_y, 1)\n",
    "plt.plot(pt_x, my*pt_x+by)"
   ]
  },
  {
   "cell_type": "code",
   "execution_count": 28,
   "id": "0310b144",
   "metadata": {},
   "outputs": [],
   "source": [
    "vector12 = centers[0]-centers[1]\n",
    "vector23 = centers[1]-centers[2]"
   ]
  },
  {
   "cell_type": "code",
   "execution_count": 29,
   "id": "7e9c9a05",
   "metadata": {},
   "outputs": [
    {
     "name": "stdout",
     "output_type": "stream",
     "text": [
      "[array([[420.92387989,  60.71130772]]), array([[422.005873  ,  60.08826132]]), array([[352.69538557,  99.99946695]]), array([[437.36058628,  51.24652406]]), array([[457.08601527,  39.88798826]]), array([[406.18992907,  69.19559   ]]), array([[399.35056792,  73.1339139 ]]), array([[365.17375373,  92.81402162]]), array([[482.05053956,  25.51261306]]), array([[438.8860795 ,  50.36809605]]), array([[413.40914913,  65.03853114]]), array([[395.63454598,  75.27371874]]), array([[435.4467037 ,  52.34859914]]), array([[394.89396002,  75.70017192]]), array([[468.48736312,  33.32272584]]), array([[419.6543279 ,  61.44235654]]), array([[399.29100898,  73.16820986]]), array([[501.69025215,  14.20343552]]), array([[387.91899657,  79.71657998]]), array([[374.07259556,  87.68978258]]), array([[389.19594741,  78.98127067]]), array([[419.86080075,  61.32346284]]), array([[371.4599708 ,  89.19421586]]), array([[430.67963688,  55.09362939]]), array([[530.8814084 ,  -2.60577017]]), array([[373.509077  ,  88.01427467]]), array([[389.65570453,  78.71652774]]), array([[487.18941099,  22.55348578]])]\n",
      "[420.92387988871053, 422.0058729985753, 352.69538556713644, 437.3605862812675, 457.086015273614, 406.18992906829203, 399.35056791918646, 365.1737537341746, 482.0505395588604, 438.88607949744846, 413.4091491299117, 395.63454597710484, 435.4467037022008, 394.8939600247438, 468.4873631174751, 419.6543278958167, 399.2910089782845, 501.69025214603676, 387.9189965741997, 374.072595562355, 389.19594740725495, 419.86080075407546, 371.45997080274753, 430.6796368762022, 530.8814084036317, 373.50907699991143, 389.65570452693817, 487.1894109895546] [60.71130771501445, 60.0882613175996, 99.99946694683311, 51.2465240580016, 39.88798826041193, 69.19559000355596, 73.1339139038829, 92.81402162263761, 25.512613059508105, 50.36809604958188, 65.03853113642562, 75.27371873500418, 52.34859914063461, 75.70017192161666, 33.32272584327944, 61.44235654359915, 73.16820985570043, 14.203435522108585, 79.71657998405342, 87.68978257558352, 78.98127066557689, 61.32346283778053, 89.19421585656232, 55.093629386294495, -2.6057701713936865, 88.01427466985457, 78.7165277439327, 22.553485776273952]\n"
     ]
    }
   ],
   "source": [
    "points1 = []\n",
    "for ele in project_value_list1:\n",
    "    loc1 = centers[0]+ele*vector12\n",
    "    points1.append(loc1)\n",
    "print(points1)\n",
    "\n",
    "x0 = []\n",
    "y0 = []\n",
    "for i in range(len(points1)):\n",
    "    px0 = points1[i][0][0]\n",
    "    py0 = points1[i][0][1]\n",
    "    x0.append(px0)\n",
    "    y0.append(py0)\n",
    "print(x0,y0)"
   ]
  },
  {
   "cell_type": "code",
   "execution_count": 30,
   "id": "a9c49a4a",
   "metadata": {},
   "outputs": [
    {
     "name": "stdout",
     "output_type": "stream",
     "text": [
      "[array([[315.81974466, 121.23364581]])]\n",
      "[315.8197446557508] [121.23364580872506]\n"
     ]
    }
   ],
   "source": [
    "points21 = []\n",
    "for ele in project_value_list21:\n",
    "    loc21 = centers[1]+ele*vector12\n",
    "    points21.append(loc21)\n",
    "print(points21)\n",
    "x21 = []\n",
    "y21 = []\n",
    "for i in range(len(points21)):\n",
    "    px21 = points21[i][0][0]\n",
    "    py21 = points21[i][0][1]\n",
    "    x21.append(px21)\n",
    "    y21.append(py21)\n",
    "print(x21,y21)"
   ]
  },
  {
   "cell_type": "code",
   "execution_count": 31,
   "id": "013ced81",
   "metadata": {},
   "outputs": [
    {
     "name": "stdout",
     "output_type": "stream",
     "text": [
      "[array([[215.91553855, 133.06106866]]), array([[235.78640308, 193.45907768]]), array([[236.56213412, 195.81693231]]), array([[243.465754  , 216.80066432]]), array([[252.28248402, 243.59934428]]), array([[227.96401778, 169.68273434]]), array([[226.30252203, 164.63257482]]), array([[211.67639231, 120.17607354]]), array([[230.25716694, 176.65282077]]), array([[241.12772977, 209.69417891]]), array([[224.42738642, 158.93305143]]), array([[232.55268394, 183.63010432]]), array([[215.69659219, 132.39557553]]), array([[211.78992255, 120.52115164]])]\n",
      "[215.91553854677394, 235.78640308063208, 236.56213411511476, 243.46575399973406, 252.28248402039733, 227.9640177844383, 226.3025220291444, 211.67639231036063, 230.25716693954973, 241.12772976607482, 224.4273864233848, 232.55268393572803, 215.6965921920243, 211.78992254731324] [133.06106866209487, 193.45907767888374, 195.81693231250858, 216.80066431517255, 243.5993442809717, 169.6827343372398, 164.63257482160276, 120.17607353900317, 176.6528207726471, 209.69417891261693, 158.93305142988544, 183.63010432249624, 132.3955755283749, 120.52115164385654]\n"
     ]
    }
   ],
   "source": [
    "points23 = []\n",
    "for ele in project_value_list23:\n",
    "    loc23 = centers[1]+ele*vector23\n",
    "    points23.append(loc23)\n",
    "print(points23)\n",
    "x23 = []\n",
    "y23 = []\n",
    "for i in range(len(points23)):\n",
    "    px23 = points23[i][0][0]\n",
    "    py23 = points23[i][0][1]\n",
    "    x23.append(px23)\n",
    "    y23.append(py23)\n",
    "print(x23,y23)"
   ]
  },
  {
   "cell_type": "code",
   "execution_count": 32,
   "id": "704540ac",
   "metadata": {},
   "outputs": [
    {
     "name": "stdout",
     "output_type": "stream",
     "text": [
      "[array([[183.48758753,  34.49546902]]), array([[208.10359294, 109.31645701]]), array([[178.06548221,  18.01483905]]), array([[173.19966806,   3.22507051]]), array([[172.62004762,   1.46329913]]), array([[199.08393691,  81.90097819]]), array([[204.95613507,  99.74967707]]), array([[207.71676818, 108.14069311]]), array([[208.80124983, 111.43700328]]), array([[193.79335816,  65.82012662]]), array([[203.67307827,  95.84979257]]), array([[190.34869098,  55.34997123]])]\n",
      "[183.48758752537898, 208.10359293550334, 178.0654822135608, 173.199668059121, 172.62004762151778, 199.083936911592, 204.95613507322392, 207.71676817847626, 208.80124983206784, 193.79335816126, 203.67307826645845, 190.34869098127325] [34.495469020018234, 109.31645701400898, 18.014839052702627, 3.2250705112724276, 1.4632991320240123, 81.90097818910456, 99.74967706731853, 108.14069311490783, 111.43700327698255, 65.82012662262554, 95.84979256797877, 55.34997123295064]\n"
     ]
    }
   ],
   "source": [
    "points3 = []\n",
    "for ele in project_value_list3:\n",
    "    loc3 = centers[2]+ele*vector23\n",
    "    points3.append(loc3)\n",
    "print(points3)\n",
    "x3 = []\n",
    "y3 = []\n",
    "for i in range(len(points3)):\n",
    "    px3 = points3[i][0][0]\n",
    "    py3 = points3[i][0][1]\n",
    "    x3.append(px3)\n",
    "    y3.append(py3)\n",
    "print(x3,y3)"
   ]
  },
  {
   "cell_type": "code",
   "execution_count": 33,
   "id": "8ffea84b",
   "metadata": {},
   "outputs": [
    {
     "data": {
      "image/png": "[encoded data removed]",
      "text/plain": [
       "<Figure size 432x288 with 1 Axes>"
      ]
     },
     "metadata": {
      "needs_background": "light"
     },
     "output_type": "display_data"
    }
   ],
   "source": [
    "plt.scatter(x0, y0)\n",
    "plt.scatter(x21, y21)\n",
    "plt.scatter(x23, y23)\n",
    "plt.scatter(x3, y3)\n",
    "\n",
    "\n",
    "centers = kmeans.cluster_centers_\n",
    "plt.scatter(centers[:, 0], centers[:, 1], c='black', s=200, alpha=0.5)\n",
    "\n",
    "plt.plot(x[0], y[0])\n",
    "plt.plot(x[2], y[2])\n",
    "\n",
    "plt.show()\n"
   ]
  },
  {
   "cell_type": "code",
   "execution_count": 34,
   "id": "6417d855",
   "metadata": {},
   "outputs": [
    {
     "data": {
      "image/png": "[encoded data removed]",
      "text/plain": [
       "<Figure size 432x288 with 1 Axes>"
      ]
     },
     "metadata": {
      "needs_background": "light"
     },
     "output_type": "display_data"
    }
   ],
   "source": [
    "plt.scatter(x0, y0)\n",
    "plt.scatter(x21, y21)\n",
    "plt.scatter(x23, y23)\n",
    "plt.scatter(x3, y3)\n",
    "\n",
    "plt.scatter(matrix[:, 0], matrix[:, 1], c=y_kmeans)\n",
    "centers = kmeans.cluster_centers_\n",
    "plt.scatter(centers[:, 0], centers[:, 1], c='black', s=200, alpha=0.5)\n",
    "\n",
    "plt.plot(x[0], y[0])\n",
    "plt.plot(x[2], y[2])\n",
    "\n",
    "plt.show()\n",
    "\n"
   ]
  }
 ],
 "metadata": {
  "kernelspec": {
   "display_name": "Python 3 (ipykernel)",
   "language": "python",
   "name": "python3"
  },
  "language_info": {
   "codemirror_mode": {
    "name": "ipython",
    "version": 3
   },
   "file_extension": ".py",
   "mimetype": "text/x-python",
   "name": "python",
   "nbconvert_exporter": "python",
   "pygments_lexer": "ipython3",
   "version": "3.9.7"
  }
 },
 "nbformat": 4,
 "nbformat_minor": 5
}
