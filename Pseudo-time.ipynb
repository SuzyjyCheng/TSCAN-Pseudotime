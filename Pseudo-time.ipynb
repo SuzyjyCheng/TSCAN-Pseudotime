{
 "cells": [
  {
   "cell_type": "code",
   "execution_count": 1,
   "id": "3448d348",
   "metadata": {},
   "outputs": [],
   "source": [
    "import matplotlib.pyplot as plt\n",
    "import numpy as np\n",
    "import pandas as pd\n",
    "from sklearn.cluster import KMeans\n",
    "from scipy.spatial import distance\n",
    "from scipy.sparse import csr_matrix\n",
    "from scipy.sparse.csgraph import minimum_spanning_tree\n",
    "from scipy.spatial.distance import pdist\n",
    "from numpy.linalg import norm "
   ]
  },
  {
   "cell_type": "markdown",
   "id": "b583d73e",
   "metadata": {},
   "source": [
    "# import n-by-2 matrix as csv file"
   ]
  },
  {
   "cell_type": "code",
   "execution_count": 2,
   "id": "30d14f48",
   "metadata": {},
   "outputs": [],
   "source": [
    "data = pd.read_csv(\"matrixnby2.csv\")"
   ]
  },
  {
   "cell_type": "code",
   "execution_count": 3,
   "id": "5423183d",
   "metadata": {},
   "outputs": [],
   "source": [
    "matrix = np.array(data)"
   ]
  },
  {
   "cell_type": "markdown",
   "id": "71e3bf8f",
   "metadata": {},
   "source": [
    "# Kmeans to identify clusters and plot "
   ]
  },
  {
   "cell_type": "code",
   "execution_count": 4,
   "id": "c79890be",
   "metadata": {},
   "outputs": [],
   "source": [
    "#kmeans to identify clusters\n",
    "kmeans = KMeans(n_clusters=3)\n",
    "kmeans.fit(matrix)\n",
    "y_kmeans = kmeans.predict(matrix)"
   ]
  },
  {
   "cell_type": "code",
   "execution_count": 5,
   "id": "609a6994",
   "metadata": {},
   "outputs": [
    {
     "data": {
      "text/plain": [
       "<matplotlib.collections.PathCollection at 0x7fd37a491400>"
      ]
     },
     "execution_count": 5,
     "metadata": {},
     "output_type": "execute_result"
    },
    {
     "data": {
      "image/png": "[encoded data removed]",
      "text/plain": [
       "<Figure size 432x288 with 1 Axes>"
      ]
     },
     "metadata": {
      "needs_background": "light"
     },
     "output_type": "display_data"
    }
   ],
   "source": [
    "#plot clusters and cluster centers\n",
    "plt.scatter(matrix[:, 0], matrix[:, 1], c=y_kmeans)\n",
    "centers = kmeans.cluster_centers_\n",
    "plt.scatter(centers[:, 0], centers[:, 1], c='black', s=200, alpha=0.5)"
   ]
  },
  {
   "cell_type": "code",
   "execution_count": 6,
   "id": "ee546f8e",
   "metadata": {},
   "outputs": [
    {
     "data": {
      "text/plain": [
       "array([[424.03984716,  65.71018455],\n",
       "       [208.40105111,  49.2119279 ],\n",
       "       [222.93487748, 169.02624776]])"
      ]
     },
     "execution_count": 6,
     "metadata": {},
     "output_type": "execute_result"
    }
   ],
   "source": [
    "centers"
   ]
  },
  {
   "cell_type": "markdown",
   "id": "e8bdf6c2",
   "metadata": {},
   "source": [
    "# MST"
   ]
  },
  {
   "cell_type": "code",
   "execution_count": 7,
   "id": "7881e457",
   "metadata": {},
   "outputs": [
    {
     "data": {
      "text/plain": [
       "array([216.26900571, 226.09161362, 120.69259858])"
      ]
     },
     "execution_count": 7,
     "metadata": {},
     "output_type": "execute_result"
    }
   ],
   "source": [
    "distances_edges = pdist(centers, 'euclidean')\n",
    "distances_edges"
   ]
  },
  {
   "cell_type": "code",
   "execution_count": 8,
   "id": "5862740b",
   "metadata": {},
   "outputs": [
    {
     "name": "stdout",
     "output_type": "stream",
     "text": [
      "[[  0.         216.26900571 226.09161362]\n",
      " [  0.           0.         120.69259858]\n",
      " [  0.           0.           0.        ]]\n"
     ]
    }
   ],
   "source": [
    "#generate matrix of nodes and edges \n",
    "edge_matrix = np.zeros((len(centers), len(centers)))\n",
    "\n",
    "for i in range(len(centers)-1):\n",
    "    for j in range(i+1, len(centers)):\n",
    "        edge_matrix[i][j] = distance.euclidean(centers[i],centers[j])\n",
    "        \n",
    "print(edge_matrix)\n",
    "\n"
   ]
  },
  {
   "cell_type": "code",
   "execution_count": 9,
   "id": "996adefb",
   "metadata": {},
   "outputs": [
    {
     "data": {
      "text/plain": [
       "array([[  0, 216,   0],\n",
       "       [  0,   0, 120],\n",
       "       [  0,   0,   0]])"
      ]
     },
     "execution_count": 9,
     "metadata": {},
     "output_type": "execute_result"
    }
   ],
   "source": [
    "matrix_mst = csr_matrix(edge_matrix + edge_matrix.T) #generate adjacency matrix for MST\n",
    "MST = minimum_spanning_tree(matrix_mst)\n",
    "MST.toarray().astype(int) #MST matrix"
   ]
  },
  {
   "cell_type": "code",
   "execution_count": 10,
   "id": "ad3030cb",
   "metadata": {},
   "outputs": [
    {
     "name": "stdout",
     "output_type": "stream",
     "text": [
      "[(424.0398471565975, 208.4010511130199), (424.0398471565975, 222.93487747534897), (208.4010511130199, 222.93487747534897)] [(65.71018454861209, 49.21192790283917), (65.71018454861209, 169.02624775979), (49.21192790283917, 169.02624775979)]\n"
     ]
    }
   ],
   "source": [
    "#find x and y for plotting the edges\n",
    "x = []\n",
    "y = []\n",
    "for i in range(len(centers)):\n",
    "    for j in range(i+1, len(centers)):\n",
    "        x_points = (centers[i][0], centers[j][0])\n",
    "        y_points = (centers[i][1], centers[j][1])\n",
    "        x.append(x_points)\n",
    "        y.append(y_points)\n",
    "print(x,y)"
   ]
  },
  {
   "cell_type": "code",
   "execution_count": 11,
   "id": "eba2a5dc",
   "metadata": {},
   "outputs": [
    {
     "data": {
      "text/plain": [
       "(array([0, 1], dtype=int32), array([1, 2], dtype=int32))"
      ]
     },
     "execution_count": 11,
     "metadata": {},
     "output_type": "execute_result"
    }
   ],
   "source": [
    "#looking for non-zero elements of the MST matrix\n",
    "MST.nonzero()"
   ]
  },
  {
   "cell_type": "code",
   "execution_count": 12,
   "id": "5b843c3e",
   "metadata": {},
   "outputs": [
    {
     "data": {
      "image/png": "[encoded data removed]",
      "text/plain": [
       "<Figure size 432x288 with 1 Axes>"
      ]
     },
     "metadata": {
      "needs_background": "light"
     },
     "output_type": "display_data"
    }
   ],
   "source": [
    "plt.scatter(matrix[:, 0], matrix[:, 1], c=y_kmeans)\n",
    "centers = kmeans.cluster_centers_\n",
    "plt.scatter(centers[:, 0], centers[:, 1], c='black', s=200, alpha=0.5)\n",
    "\n",
    "#deciding edges according to the MST matrix\n",
    "plt.plot(x[0], y[0])\n",
    "plt.plot(x[2], y[2])\n",
    "\n",
    "plt.show()"
   ]
  },
  {
   "cell_type": "markdown",
   "id": "0c244e77",
   "metadata": {},
   "source": [
    "# Projection"
   ]
  },
  {
   "cell_type": "code",
   "execution_count": 13,
   "id": "50a39e6a",
   "metadata": {},
   "outputs": [
    {
     "data": {
      "text/plain": [
       "array([1, 2, 1, 1, 1, 2, 2, 2, 2, 2, 2, 2, 2, 2, 1, 1, 1, 2, 2, 2, 1, 1,\n",
       "       2, 2, 1, 0, 0, 0, 0, 0, 0, 0, 2, 0, 0, 0, 0, 0, 0, 1, 0, 0, 0, 0,\n",
       "       0, 0, 0, 1, 0, 0, 0, 0, 0, 0, 0], dtype=int32)"
      ]
     },
     "execution_count": 13,
     "metadata": {},
     "output_type": "execute_result"
    }
   ],
   "source": [
    "#find the labels to identify cells in different clusters\n",
    "labels = kmeans.labels_\n",
    "labels"
   ]
  },
  {
   "cell_type": "code",
   "execution_count": 14,
   "id": "c04e4e92",
   "metadata": {},
   "outputs": [],
   "source": [
    "#find the position of each cell\n",
    "c1_points_position = list(np.where(labels == 0)[0])\n",
    "c2_points_position = list(np.where(labels == 1)[0])\n",
    "c3_points_position = list(np.where(labels == 2)[0])\n",
    "\n",
    "#find the edges that connect two cluster centers\n",
    "v12 = centers[0].reshape(-1,1)-centers[1].reshape(-1,1)\n",
    "v23 = centers[1].reshape(-1,1)-centers[2].reshape(-1,1)"
   ]
  },
  {
   "cell_type": "code",
   "execution_count": 15,
   "id": "f39b99a3",
   "metadata": {},
   "outputs": [
    {
     "name": "stdout",
     "output_type": "stream",
     "text": [
      "[array([[0.1571243]]), array([[-0.08885243]]), array([[-0.3327895]]), array([[0.17559036]]), array([[0.20392765]]), array([[-0.01344048]]), array([[0.06233689]]), array([[-0.26609424]]), array([[0.26020303]]), array([[0.0212173]]), array([[-0.09406418]]), array([[-0.09297464]]), array([[0.00086446]]), array([[0.13491965]]), array([[-0.03230306]]), array([[0.15804607]]), array([[0.26170877]]), array([[-0.14333125]]), array([[-0.05110819]]), array([[-0.3643849]]), array([[-0.18896868]]), array([[-0.31457771]]), array([[0.11767523]]), array([[0.38069644]]), array([[-0.2592939]]), array([[-0.13452741]]), array([[0.44240038]])]\n"
     ]
    }
   ],
   "source": [
    "#projection for cluster 1\n",
    "project_value_list1 = []\n",
    "for ele in c1_points_position:\n",
    "    x1 = matrix[ele].reshape(-1,1)  - centers[0].reshape(-1,1)\n",
    "    project_value1 = (x1.T@(v12))/(v12.T@v12)\n",
    "    project_value_list1.append(project_value1)\n",
    "print(project_value_list1)"
   ]
  },
  {
   "cell_type": "code",
   "execution_count": 16,
   "id": "202b3801",
   "metadata": {},
   "outputs": [
    {
     "name": "stdout",
     "output_type": "stream",
     "text": [
      "[array([[0.38721282]]), array([[0.31362103]]), array([[-0.206524]]), array([[-0.26028624]]), array([[-0.43523992]]), array([[-0.66783168]]), array([[-0.05787228]]), array([[0.03006334]]), array([[0.41525433]]), array([[-0.06768947]]), array([[-0.41194585]]), array([[0.07042935]]), array([[-0.12372781]]), array([[0.32656151]]), array([[0.39688741]]), array([[0.29108748]])]\n"
     ]
    }
   ],
   "source": [
    "#projection for cluster 3\n",
    "project_value_list3 = []\n",
    "for ele in c3_points_position:\n",
    "    x3 = matrix[ele].reshape(-1,1) - centers[2].reshape(-1,1)\n",
    "    project_value3 = (x3.T@(v23))/(v23.T@v23)\n",
    "    project_value_list3.append(project_value3)\n",
    "print(project_value_list3)"
   ]
  },
  {
   "cell_type": "code",
   "execution_count": 17,
   "id": "7dac809c",
   "metadata": {},
   "outputs": [],
   "source": [
    "#projection for cluster 2\n",
    "project_value_list21 = []\n",
    "project_value_list23 = []\n",
    "for ele in c2_points_position:\n",
    "    d1 = np.linalg.norm(matrix[ele] - centers[0])\n",
    "    d2 = np.linalg.norm(matrix[ele] - centers[2])\n",
    "    x2 = matrix[ele].reshape(-1,1) - centers[1].reshape(-1,1)\n",
    "    if d1 < d2:\n",
    "        project_value21 = (x2.T@(v12))/(v12.T@v12)\n",
    "        project_value_list21.append(project_value21)\n",
    "    else:\n",
    "        project_value23 = (x2.T@(v23))/(v23.T@v23)\n",
    "        project_value_list23.append(project_value23)\n"
   ]
  },
  {
   "cell_type": "code",
   "execution_count": 18,
   "id": "d049fe53",
   "metadata": {},
   "outputs": [
    {
     "data": {
      "text/plain": [
       "array([[19,  2, 21,  7, 24, 20, 17, 25, 10, 11,  1, 18, 14,  5, 12,  9,\n",
       "         6, 22, 13,  0, 15,  3,  4,  8, 16, 23, 26]])"
      ]
     },
     "execution_count": 18,
     "metadata": {},
     "output_type": "execute_result"
    }
   ],
   "source": [
    "#find the cell order\n",
    "cell_order_c1 = np.argsort(np.array(project_value_list1).reshape(1, -1))\n",
    "cell_order_c1"
   ]
  },
  {
   "cell_type": "code",
   "execution_count": 19,
   "id": "8b11099e",
   "metadata": {},
   "outputs": [
    {
     "data": {
      "text/plain": [
       "array([28, 27])"
      ]
     },
     "execution_count": 19,
     "metadata": {},
     "output_type": "execute_result"
    }
   ],
   "source": [
    "cell_order_c21 = np.argsort(np.array(project_value_list21).reshape(1, -1))\n",
    "cell_order_c2_combine21 = cell_order_c21[0]+max(cell_order_c1[0])+1\n",
    "cell_order_c2_combine21"
   ]
  },
  {
   "cell_type": "code",
   "execution_count": 20,
   "id": "0cf76966",
   "metadata": {},
   "outputs": [
    {
     "data": {
      "text/plain": [
       "array([36, 35, 34, 38, 33, 37, 29, 30, 31, 32])"
      ]
     },
     "execution_count": 20,
     "metadata": {},
     "output_type": "execute_result"
    }
   ],
   "source": [
    "cell_order_c23 = np.argsort(np.array(project_value_list23).reshape(1, -1))\n",
    "cell_order_c2_combine23 = cell_order_c23[0]+max(cell_order_c2_combine21)+1\n",
    "cell_order_c2_combine23"
   ]
  },
  {
   "cell_type": "code",
   "execution_count": 21,
   "id": "9f7714ac",
   "metadata": {},
   "outputs": [
    {
     "data": {
      "text/plain": [
       "array([44, 43, 49, 42, 41, 51, 48, 45, 46, 50, 54, 40, 52, 39, 53, 47])"
      ]
     },
     "execution_count": 21,
     "metadata": {},
     "output_type": "execute_result"
    }
   ],
   "source": [
    "cell_order_c3 = np.argsort(np.array(project_value_list3).reshape(1, -1))\n",
    "cell_order_c3_combine = cell_order_c3[0]+max(cell_order_c2_combine23)+1\n",
    "cell_order_c3_combine"
   ]
  },
  {
   "cell_type": "code",
   "execution_count": 22,
   "id": "80e87f3a",
   "metadata": {},
   "outputs": [],
   "source": [
    "c1 = [matrix[item] for item in c1_points_position]\n",
    "c2 = [matrix[item] for item in c2_points_position]\n",
    "c3 = [matrix[item] for item in c3_points_position]"
   ]
  },
  {
   "cell_type": "code",
   "execution_count": 23,
   "id": "f3ff3146",
   "metadata": {},
   "outputs": [],
   "source": [
    "pt_x = np.hstack(( cell_order_c1[0],cell_order_c2_combine21,cell_order_c2_combine23,cell_order_c3_combine )).ravel()\n",
    "pt_y = c1+ c2+ c3"
   ]
  },
  {
   "cell_type": "code",
   "execution_count": 24,
   "id": "fd14a11f",
   "metadata": {},
   "outputs": [
    {
     "name": "stdout",
     "output_type": "stream",
     "text": [
      "[454.0953558849136, 407.1690975988548, 349.6399820639059, 460.1978704287384, 468.7039597089194, 419.1376151425485, 432.57799523268017, 364.3583803823681, 483.3773394591933, 430.8795112855517, 404.82867219751785, 402.2613734480569, 426.4455755748765, 457.27211556664525, 417.6289152329975, 450.893380673764, 486.732815722118, 391.41503043861024, 406.90982894532107, 349.2910455683775, 387.6656222851868, 356.05736478864367, 448.06593290326407, 514.0733093741366, 366.9621368436939, 393.3718579795952, 519.0637884976541, 146.05921911460712, 147.67426020843277, 106.42558152510176, 149.69746295734984, 234.90411284662792, 220.94576689375293, 235.6657033667078, 226.7185331842973, 227.742490911014, 203.8426420928137, 315.5775964275779, 285.5592438279555, 138.61457883077284, 222.2351523619629, 240.0384111223048, 221.1492446243644, 230.70463860659805, 237.54873967047936, 200.185785954486, 224.71294772969927, 212.9746605552941, 231.6307330391538, 206.42074521306688, 217.9297119490128, 236.057953727036, 226.25903176026824, 204.0646510454136, 316.43105341567014] [118.31746452910672, 34.32246149640399, 94.69340057349558, 90.90614523246416, 60.063910763053, 91.68076475003484, 130.83723673971537, 91.3980302096666, 27.81675662937059, 36.463751726463904, 50.13752703990125, 86.78198151219549, 36.71708493048206, 13.846133689348072, 57.924990012156016, 162.781777735801, -11.771906312897627, 85.78785263540188, 144.7154879079785, 9.681730505095068, 5.412761132834568, 62.44578484023637, 85.28697066136462, -31.795004577204253, 76.64474558002104, 85.1700638652525, 77.90707900478534, 46.80935238340935, 28.013510620078986, 25.193656057209694, 9.004798960287587, 70.11618800858369, 94.48910949192576, 98.94553065787132, 105.5422409147342, 54.65090715837448, 95.79400629491782, -62.04199185261213, 24.02582613928924, 132.1782501152126, 130.98192413279406, 192.06017269561735, 200.887752429458, 220.9990542854024, 248.44672655101203, 178.8217356167299, 165.15554264926735, 119.74894501533755, 176.2009193550698, 221.1127306108993, 161.07077767893222, 182.47687522916067, 128.92054697653478, 123.062755680156, 122.29525513505622]\n"
     ]
    }
   ],
   "source": [
    "ordered_x = []\n",
    "ordered_y = []\n",
    "for i in range(len(pt_y)):\n",
    "    o_x = pt_y[i][0]\n",
    "    o_y = pt_y[i][1]\n",
    "    ordered_x.append(o_x)\n",
    "    ordered_y.append(o_y)\n",
    "print(ordered_x,ordered_y)"
   ]
  },
  {
   "cell_type": "code",
   "execution_count": 25,
   "id": "e8600482",
   "metadata": {},
   "outputs": [
    {
     "data": {
      "text/plain": [
       "[<matplotlib.lines.Line2D at 0x7fd3281db880>]"
      ]
     },
     "execution_count": 25,
     "metadata": {},
     "output_type": "execute_result"
    },
    {
     "data": {
      "image/png": "[encoded data removed]",
      "text/plain": [
       "<Figure size 432x288 with 1 Axes>"
      ]
     },
     "metadata": {
      "needs_background": "light"
     },
     "output_type": "display_data"
    }
   ],
   "source": [
    "#plot the pseudotime by x\n",
    "plt.scatter(pt_x, ordered_x)\n",
    "mx,bx = np.polyfit(pt_x, ordered_x, 1)\n",
    "plt.plot(pt_x, mx*pt_x+bx)"
   ]
  },
  {
   "cell_type": "code",
   "execution_count": 26,
   "id": "4e1ac7cc",
   "metadata": {},
   "outputs": [
    {
     "data": {
      "text/plain": [
       "[<matplotlib.lines.Line2D at 0x7fd338099df0>]"
      ]
     },
     "execution_count": 26,
     "metadata": {},
     "output_type": "execute_result"
    },
    {
     "data": {
      "image/png": "[encoded data removed]",
      "text/plain": [
       "<Figure size 432x288 with 1 Axes>"
      ]
     },
     "metadata": {
      "needs_background": "light"
     },
     "output_type": "display_data"
    }
   ],
   "source": [
    "#plot the pseudotime by y\n",
    "plt.scatter(pt_x, ordered_y)\n",
    "my,by = np.polyfit(pt_x, ordered_y, 1)\n",
    "plt.plot(pt_x, my*pt_x+by)"
   ]
  },
  {
   "cell_type": "code",
   "execution_count": 27,
   "id": "0310b144",
   "metadata": {},
   "outputs": [],
   "source": [
    "vector12 = centers[0]-centers[1]\n",
    "vector23 = centers[1]-centers[2]"
   ]
  },
  {
   "cell_type": "code",
   "execution_count": 28,
   "id": "a6c8adfe",
   "metadata": {},
   "outputs": [
    {
     "name": "stdout",
     "output_type": "stream",
     "text": [
      "[array([[457.92194169,  68.30246155]]), array([[404.87981683,  64.24427441]]), array([[352.27751921,  60.2197379 ]]), array([[461.90394122,  68.60711939]]), array([[468.01456036,  69.07463528]]), array([[421.1415574,  65.48844  ]]), array([[437.48209973,  66.73863461]]), array([[366.65960599,  61.32009351]]), array([[480.14971614,  70.00308098]]), array([[428.61512123,  66.06023309]]), array([[403.75596106,  64.1582896 ]]), array([[403.99090875,  64.17626515]]), array([[424.22625833,  65.72444664]]), array([[453.13375758,  67.93612353]]), array([[417.07405456,  65.1772404 ]]), array([[458.12071237,  68.31766925]]), array([[480.4744123 ,  70.02792308]]), array([[393.13206937,  63.34546883]]), array([[413.01893853,  64.86698851]]), array([[345.46432698,  59.69846902]]), array([[383.29086908,  62.59253081]]), array([[356.20468884,  60.52020078]]), array([[449.41519164,  67.65162066]]), array([[506.13277005,  71.99101219]]), array([[368.12602315,  61.43228727]]), array([[395.03051792,  63.49071677]]), array([[519.43853294,  73.00901959]])]\n",
      "[457.9219416869743, 404.8798168303087, 352.27751920778707, 461.9039412195342, 468.0145603600167, 421.1415574008986, 437.48209972590047, 366.6596059877927, 480.1497161422586, 428.61512123006924, 403.7559610560035, 403.99090874953805, 424.2262583331694, 453.1337575779581, 417.07405455675337, 458.1207123703835, 480.47441230059036, 393.1320693691643, 413.0189385306434, 345.4643269824474, 383.29086907562083, 356.20468883524507, 449.4151916437407, 506.1327700450642, 368.1260231480139, 395.03051791832513, 519.4385329439311] [68.30246154845923, 64.24427440876869, 60.21973790487208, 68.60711939044721, 69.07463527670674, 65.48843999660824, 66.73863460887324, 61.32009351412135, 70.00308098408958, 66.0602330893841, 64.15828959834721, 64.17626515477484, 65.72444663636787, 67.93612352512045, 65.17724040237307, 68.31766924674316, 70.02792308416777, 63.345468831202204, 64.86698850821193, 59.69846902388685, 62.592530811122906, 60.5202007788727, 67.65162066078175, 71.99101218939462, 61.432287271010104, 63.490716773444106, 73.00901959437451]\n"
     ]
    }
   ],
   "source": [
    "points1 = []\n",
    "for ele in project_value_list1:\n",
    "    loc1 = centers[0]+ele*vector12\n",
    "    points1.append(loc1)\n",
    "print(points1)\n",
    "\n",
    "x0 = []\n",
    "y0 = []\n",
    "for i in range(len(points1)):\n",
    "    px0 = points1[i][0][0]\n",
    "    py0 = points1[i][0][1]\n",
    "    x0.append(px0)\n",
    "    y0.append(py0)\n",
    "print(x0,y0)"
   ]
  },
  {
   "cell_type": "code",
   "execution_count": 29,
   "id": "d3bed893",
   "metadata": {},
   "outputs": [
    {
     "name": "stdout",
     "output_type": "stream",
     "text": [
      "[array([[306.49151573,  56.71670761]]), array([[283.19447638,  54.93428004]])]\n",
      "[306.49151572905345, 283.1944763819196] [56.71670760589125, 54.934280040500795]\n"
     ]
    }
   ],
   "source": [
    "points21 = []\n",
    "for ele in project_value_list21:\n",
    "    loc21 = centers[1]+ele*vector12\n",
    "    points21.append(loc21)\n",
    "print(points21)\n",
    "x21 = []\n",
    "y21 = []\n",
    "for i in range(len(points21)):\n",
    "    px21 = points21[i][0][0]\n",
    "    py21 = points21[i][0][1]\n",
    "    x21.append(px21)\n",
    "    y21.append(py21)\n",
    "print(x21,y21)"
   ]
  },
  {
   "cell_type": "code",
   "execution_count": 30,
   "id": "13032166",
   "metadata": {},
   "outputs": [
    {
     "name": "stdout",
     "output_type": "stream",
     "text": [
      "[array([[207.20981749,  39.39160649]]), array([[204.98630902,  21.06139198]]), array([[204.05106455,  13.3514003 ]]), array([[202.74327202,   2.57018765]]), array([[211.2843494 ,  72.98133419]]), array([[213.99557317,  95.33218826]]), array([[214.74176528, 101.48366536]]), array([[215.40061863, 106.91513695]]), array([[209.33171858,  56.88418753]]), array([[213.90355281,  94.57358849]])]\n",
      "[207.2098174911421, 204.98630902260925, 204.05106455024915, 202.74327201836505, 211.28434940386416, 213.9955731748036, 214.74176528433284, 215.40061862610992, 209.33171857667264, 213.90355281102268] [39.39160649278305, 21.061391984100716, 13.351400302471681, 2.5701876461932187, 72.98133418648858, 95.33218825593627, 101.48366535886899, 106.91513695227599, 56.884187526056394, 94.57358848843255]\n"
     ]
    }
   ],
   "source": [
    "points23 = []\n",
    "for ele in project_value_list23:\n",
    "    loc23 = centers[1]+ele*vector23\n",
    "    points23.append(loc23)\n",
    "print(points23)\n",
    "x23 = []\n",
    "y23 = []\n",
    "for i in range(len(points23)):\n",
    "    px23 = points23[i][0][0]\n",
    "    py23 = points23[i][0][1]\n",
    "    x23.append(px23)\n",
    "    y23.append(py23)\n",
    "print(x23,y23)"
   ]
  },
  {
   "cell_type": "code",
   "execution_count": 31,
   "id": "cb9d756d",
   "metadata": {},
   "outputs": [
    {
     "name": "stdout",
     "output_type": "stream",
     "text": [
      "[array([[217.30719351, 122.6326065 ]]), array([[218.37676395, 131.4499579 ]]), array([[225.93646143, 193.77078031]]), array([[226.71783248, 200.21226649]]), array([[229.26057892, 221.17422294]]), array([[232.64102717, 249.04204639]]), array([[223.77598318, 175.96017591]]), array([[222.49794213, 165.42422929]]), array([[216.89964321, 119.27283317]]), array([[223.9186645 , 177.13641576]]), array([[228.92202692, 218.38325953]]), array([[221.91126954, 160.58780313]]), array([[224.73311597, 183.85061107]]), array([[218.18868925, 129.89950305]]), array([[217.1665848 , 121.47345291]]), array([[218.70426264, 134.14979981]])]\n",
      "[217.30719351201213, 218.37676394732657, 225.936461426075, 226.717832481288, 229.26057892123652, 232.64102716510865, 223.77598317812956, 222.49794213156122, 216.8996432113608, 223.91866450154626, 228.9220269218339, 221.91126953676084, 224.7331159709763, 218.18868925388884, 217.16658480224686, 218.70426264423207] [122.63260649648407, 131.44995789807103, 193.7707803133045, 200.21226648510236, 221.17422293593552, 249.04204638819382, 175.96017590741573, 165.42422928700282, 119.27283317439455, 177.13641575611595, 218.3832595286821, 160.58780313381078, 183.85061107079156, 129.89950305467536, 121.47345291183998, 134.1497998148201]\n"
     ]
    }
   ],
   "source": [
    "points3 = []\n",
    "for ele in project_value_list3:\n",
    "    loc3 = centers[2]+ele*vector23\n",
    "    points3.append(loc3)\n",
    "print(points3)\n",
    "x3 = []\n",
    "y3 = []\n",
    "for i in range(len(points3)):\n",
    "    px3 = points3[i][0][0]\n",
    "    py3 = points3[i][0][1]\n",
    "    x3.append(px3)\n",
    "    y3.append(py3)\n",
    "print(x3,y3)"
   ]
  },
  {
   "cell_type": "code",
   "execution_count": 32,
   "id": "8ffea84b",
   "metadata": {},
   "outputs": [
    {
     "data": {
      "image/png": "[encoded data removed]",
      "text/plain": [
       "<Figure size 432x288 with 1 Axes>"
      ]
     },
     "metadata": {
      "needs_background": "light"
     },
     "output_type": "display_data"
    }
   ],
   "source": [
    "plt.scatter(x0, y0)\n",
    "plt.scatter(x21, y21)\n",
    "plt.scatter(x23, y23)\n",
    "plt.scatter(x3, y3)\n",
    "\n",
    "\n",
    "centers = kmeans.cluster_centers_\n",
    "plt.scatter(centers[:, 0], centers[:, 1], c='black', s=200, alpha=0.5)\n",
    "\n",
    "plt.plot(x[0], y[0])\n",
    "plt.plot(x[2], y[2])\n",
    "\n",
    "plt.show()\n"
   ]
  },
  {
   "cell_type": "code",
   "execution_count": 33,
   "id": "519dc12d",
   "metadata": {},
   "outputs": [
    {
     "data": {
      "image/png": "[encoded data removed]",
      "text/plain": [
       "<Figure size 432x288 with 1 Axes>"
      ]
     },
     "metadata": {
      "needs_background": "light"
     },
     "output_type": "display_data"
    }
   ],
   "source": [
    "plt.scatter(x0, y0)\n",
    "plt.scatter(x21, y21)\n",
    "plt.scatter(x23, y23)\n",
    "plt.scatter(x3, y3)\n",
    "\n",
    "plt.scatter(matrix[:, 0], matrix[:, 1], c=y_kmeans)\n",
    "centers = kmeans.cluster_centers_\n",
    "plt.scatter(centers[:, 0], centers[:, 1], c='black', s=200, alpha=0.5)\n",
    "\n",
    "plt.plot(x[0], y[0])\n",
    "plt.plot(x[2], y[2])\n",
    "\n",
    "plt.show()\n",
    "\n"
   ]
  }
 ],
 "metadata": {
  "kernelspec": {
   "display_name": "Python 3 (ipykernel)",
   "language": "python",
   "name": "python3"
  },
  "language_info": {
   "codemirror_mode": {
    "name": "ipython",
    "version": 3
   },
   "file_extension": ".py",
   "mimetype": "text/x-python",
   "name": "python",
   "nbconvert_exporter": "python",
   "pygments_lexer": "ipython3",
   "version": "3.9.7"
  }
 },
 "nbformat": 4,
 "nbformat_minor": 5
}
