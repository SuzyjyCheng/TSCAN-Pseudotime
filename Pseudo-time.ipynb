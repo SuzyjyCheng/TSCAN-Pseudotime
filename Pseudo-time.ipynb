{
 "cells": [
  {
   "cell_type": "code",
   "execution_count": 1,
   "id": "3448d348",
   "metadata": {},
   "outputs": [],
   "source": [
    "import matplotlib.pyplot as plt\n",
    "import numpy as np\n",
    "import pandas as pd\n",
    "from sklearn.cluster import KMeans\n",
    "from scipy.spatial import distance\n",
    "from scipy.sparse import csr_matrix\n",
    "from scipy.sparse.csgraph import minimum_spanning_tree\n",
    "from scipy.spatial.distance import pdist\n",
    "from scipy.spatial import distance"
   ]
  },
  {
   "cell_type": "markdown",
   "id": "b583d73e",
   "metadata": {},
   "source": [
    "# import n-by-2 matrix as csv file"
   ]
  },
  {
   "cell_type": "code",
   "execution_count": 2,
   "id": "30d14f48",
   "metadata": {},
   "outputs": [],
   "source": [
    "data = pd.read_csv(\"matrixnby2.csv\")"
   ]
  },
  {
   "cell_type": "code",
   "execution_count": 3,
   "id": "5423183d",
   "metadata": {},
   "outputs": [],
   "source": [
    "matrix = np.array(data)"
   ]
  },
  {
   "cell_type": "markdown",
   "id": "71e3bf8f",
   "metadata": {},
   "source": [
    "# Kmeans to identify clusters and plot "
   ]
  },
  {
   "cell_type": "code",
   "execution_count": 4,
   "id": "c79890be",
   "metadata": {},
   "outputs": [],
   "source": [
    "#kmeans to identify clusters\n",
    "kmeans = KMeans(n_clusters=3)\n",
    "kmeans.fit(matrix)\n",
    "y_kmeans = kmeans.predict(matrix)"
   ]
  },
  {
   "cell_type": "code",
   "execution_count": 5,
   "id": "609a6994",
   "metadata": {},
   "outputs": [
    {
     "data": {
      "text/plain": [
       "<matplotlib.collections.PathCollection at 0x7fbca02c15e0>"
      ]
     },
     "execution_count": 5,
     "metadata": {},
     "output_type": "execute_result"
    },
    {
     "data": {
      "image/png": "[encoded data removed]",
      "text/plain": [
       "<Figure size 432x288 with 1 Axes>"
      ]
     },
     "metadata": {
      "needs_background": "light"
     },
     "output_type": "display_data"
    }
   ],
   "source": [
    "#plot clusters and cluster centers\n",
    "plt.scatter(matrix[:, 0], matrix[:, 1], c=y_kmeans)\n",
    "centers = kmeans.cluster_centers_\n",
    "plt.scatter(centers[:, 0], centers[:, 1], c='black', s=200, alpha=0.5)"
   ]
  },
  {
   "cell_type": "code",
   "execution_count": 6,
   "id": "ee546f8e",
   "metadata": {},
   "outputs": [
    {
     "data": {
      "text/plain": [
       "array([[424.03984716,  65.71018455],\n",
       "       [206.73582547,  44.09099036],\n",
       "       [223.15744546, 165.29189442]])"
      ]
     },
     "execution_count": 6,
     "metadata": {},
     "output_type": "execute_result"
    }
   ],
   "source": [
    "centers"
   ]
  },
  {
   "cell_type": "markdown",
   "id": "e8bdf6c2",
   "metadata": {},
   "source": [
    "# MST"
   ]
  },
  {
   "cell_type": "code",
   "execution_count": 7,
   "id": "7881e457",
   "metadata": {},
   "outputs": [
    {
     "data": {
      "text/plain": [
       "array([218.37680142, 224.21029471, 122.30833474])"
      ]
     },
     "execution_count": 7,
     "metadata": {},
     "output_type": "execute_result"
    }
   ],
   "source": [
    "distances_edges = pdist(centers, 'euclidean')\n",
    "distances_edges"
   ]
  },
  {
   "cell_type": "code",
   "execution_count": 8,
   "id": "5862740b",
   "metadata": {},
   "outputs": [
    {
     "name": "stdout",
     "output_type": "stream",
     "text": [
      "[[  0.         218.37680142 224.21029471]\n",
      " [  0.           0.         122.30833474]\n",
      " [  0.           0.           0.        ]]\n"
     ]
    }
   ],
   "source": [
    "#generate matrix of nodes and edges \n",
    "edge_matrix = np.zeros((len(centers), len(centers)))\n",
    "\n",
    "for i in range(len(centers)-1):\n",
    "    for j in range(i+1, len(centers)):\n",
    "        edge_matrix[i][j] = distance.euclidean(centers[i],centers[j])\n",
    "        \n",
    "print(edge_matrix)\n",
    "\n"
   ]
  },
  {
   "cell_type": "code",
   "execution_count": 9,
   "id": "996adefb",
   "metadata": {},
   "outputs": [
    {
     "data": {
      "text/plain": [
       "array([[  0, 218,   0],\n",
       "       [  0,   0, 122],\n",
       "       [  0,   0,   0]])"
      ]
     },
     "execution_count": 9,
     "metadata": {},
     "output_type": "execute_result"
    }
   ],
   "source": [
    "matrix_mst = csr_matrix(edge_matrix + edge_matrix.T) #generate adjacency matrix for MST\n",
    "MST = minimum_spanning_tree(matrix_mst)\n",
    "MST.toarray().astype(int) #MST matrix"
   ]
  },
  {
   "cell_type": "code",
   "execution_count": 10,
   "id": "ad3030cb",
   "metadata": {},
   "outputs": [
    {
     "name": "stdout",
     "output_type": "stream",
     "text": [
      "[(424.0398471565975, 206.73582547017645), (424.0398471565975, 223.15744545822827), (206.73582547017645, 223.15744545822827)] [(65.71018454861209, 44.09099035630326), (65.71018454861209, 165.2918944159632), (44.09099035630326, 165.2918944159632)]\n"
     ]
    }
   ],
   "source": [
    "#find x and y for plotting the edges\n",
    "x = []\n",
    "y = []\n",
    "for i in range(len(centers)):\n",
    "    for j in range(i+1, len(centers)):\n",
    "        x_points = (centers[i][0], centers[j][0])\n",
    "        y_points = (centers[i][1], centers[j][1])\n",
    "        x.append(x_points)\n",
    "        y.append(y_points)\n",
    "print(x,y)"
   ]
  },
  {
   "cell_type": "code",
   "execution_count": 11,
   "id": "eba2a5dc",
   "metadata": {},
   "outputs": [
    {
     "data": {
      "text/plain": [
       "(array([0, 1], dtype=int32), array([1, 2], dtype=int32))"
      ]
     },
     "execution_count": 11,
     "metadata": {},
     "output_type": "execute_result"
    }
   ],
   "source": [
    "#looking for non-zero elements of the MST matrix\n",
    "MST.nonzero()"
   ]
  },
  {
   "cell_type": "code",
   "execution_count": 12,
   "id": "5b843c3e",
   "metadata": {},
   "outputs": [
    {
     "data": {
      "image/png": "[encoded data removed]",
      "text/plain": [
       "<Figure size 432x288 with 1 Axes>"
      ]
     },
     "metadata": {
      "needs_background": "light"
     },
     "output_type": "display_data"
    }
   ],
   "source": [
    "plt.scatter(matrix[:, 0], matrix[:, 1], c=y_kmeans)\n",
    "centers = kmeans.cluster_centers_\n",
    "plt.scatter(centers[:, 0], centers[:, 1], c='black', s=200, alpha=0.5)\n",
    "\n",
    "#deciding edges according to the MST matrix\n",
    "plt.plot(x[0], y[0])\n",
    "plt.plot(x[2], y[2])\n",
    "\n",
    "plt.show()"
   ]
  },
  {
   "cell_type": "markdown",
   "id": "0c244e77",
   "metadata": {},
   "source": [
    "# Projection"
   ]
  },
  {
   "cell_type": "code",
   "execution_count": 13,
   "id": "50a39e6a",
   "metadata": {},
   "outputs": [
    {
     "data": {
      "text/plain": [
       "array([1, 2, 1, 1, 1, 2, 2, 2, 2, 2, 2, 2, 2, 2, 1, 1, 1, 2, 2, 2, 2, 1,\n",
       "       2, 2, 1, 0, 0, 0, 0, 0, 0, 0, 2, 0, 0, 0, 0, 0, 0, 1, 0, 0, 0, 0,\n",
       "       0, 0, 0, 1, 0, 0, 0, 0, 0, 0, 0], dtype=int32)"
      ]
     },
     "execution_count": 13,
     "metadata": {},
     "output_type": "execute_result"
    }
   ],
   "source": [
    "#find the labels to identify cells in different clusters\n",
    "labels = kmeans.labels_\n",
    "labels"
   ]
  },
  {
   "cell_type": "code",
   "execution_count": 14,
   "id": "c04e4e92",
   "metadata": {},
   "outputs": [],
   "source": [
    "#find the edges that connect two cluster centers\n",
    "v12 = centers[0].reshape(-1,1)-centers[1].reshape(-1,1)\n",
    "v23 = centers[1].reshape(-1,1)-centers[2].reshape(-1,1)"
   ]
  },
  {
   "cell_type": "code",
   "execution_count": 15,
   "id": "6e0b0adb",
   "metadata": {},
   "outputs": [],
   "source": [
    "x1 = data.loc[labels == 0].values\n",
    "proj_c1 = (x1 - x1.mean(axis = 0))@v12/(v12.T@v12)"
   ]
  },
  {
   "cell_type": "code",
   "execution_count": 16,
   "id": "cbd54c2f",
   "metadata": {},
   "outputs": [],
   "source": [
    "x2 = data.loc[labels == 1].values"
   ]
  },
  {
   "cell_type": "code",
   "execution_count": 17,
   "id": "bbf2401c",
   "metadata": {},
   "outputs": [],
   "source": [
    "x3 = data.loc[labels == 2].values\n",
    "proj_c3 = (x3 - x3.mean(axis = 0))@v23/(v23.T@v23)"
   ]
  },
  {
   "cell_type": "code",
   "execution_count": 18,
   "id": "7dac809c",
   "metadata": {},
   "outputs": [],
   "source": [
    "#projection for cluster 2\n",
    "c2_points_position = list(np.where(labels == 1)[0])\n",
    "project_value_list21 = []\n",
    "project_value_list23 = []\n",
    "for ele in c2_points_position:\n",
    "    d1 = np.linalg.norm(matrix[ele] - centers[0])\n",
    "    d2 = np.linalg.norm(matrix[ele] - centers[2])\n",
    "    x_c2 = matrix[ele].reshape(-1,1) - centers[1].reshape(-1,1)\n",
    "    if d1 < d2:\n",
    "        project_value21 = (x_c2.T@(v12))/(v12.T@v12)\n",
    "        project_value_list21.append(project_value21)\n",
    "    else:\n",
    "        project_value23 = (x_c2.T@(v23))/(v23.T@v23)\n",
    "        project_value_list23.append(project_value23)\n"
   ]
  },
  {
   "cell_type": "code",
   "execution_count": 19,
   "id": "d049fe53",
   "metadata": {},
   "outputs": [
    {
     "data": {
      "text/plain": [
       "array([[19,  2, 21,  7, 24, 20, 17, 25, 10,  1, 11, 18, 14,  5, 12,  9,\n",
       "         6, 22, 13,  0, 15,  3,  4, 16,  8, 23, 26]])"
      ]
     },
     "execution_count": 19,
     "metadata": {},
     "output_type": "execute_result"
    }
   ],
   "source": [
    "#find the cell order\n",
    "cell_order_c1 = np.argsort(proj_c1.reshape(1, -1))\n",
    "cell_order_c1"
   ]
  },
  {
   "cell_type": "code",
   "execution_count": 20,
   "id": "8b11099e",
   "metadata": {},
   "outputs": [
    {
     "data": {
      "text/plain": [
       "array([28, 27])"
      ]
     },
     "execution_count": 20,
     "metadata": {},
     "output_type": "execute_result"
    }
   ],
   "source": [
    "cell_order_c21 = np.argsort(np.array(project_value_list21).reshape(1, -1))\n",
    "cell_order_c2_combine21 = cell_order_c21[0]+max(cell_order_c1[0])+1\n",
    "cell_order_c2_combine21"
   ]
  },
  {
   "cell_type": "code",
   "execution_count": 21,
   "id": "0cf76966",
   "metadata": {},
   "outputs": [
    {
     "data": {
      "text/plain": [
       "array([35, 34, 37, 33, 36, 29, 30, 31, 32])"
      ]
     },
     "execution_count": 21,
     "metadata": {},
     "output_type": "execute_result"
    }
   ],
   "source": [
    "cell_order_c23 = np.argsort(np.array(project_value_list23).reshape(1, -1))\n",
    "cell_order_c2_combine23 = cell_order_c23[0]+max(cell_order_c2_combine21)+1\n",
    "cell_order_c2_combine23"
   ]
  },
  {
   "cell_type": "code",
   "execution_count": 22,
   "id": "9f7714ac",
   "metadata": {},
   "outputs": [
    {
     "data": {
      "text/plain": [
       "array([43, 42, 48, 41, 40, 50, 47, 44, 45, 49, 54, 39, 52, 38, 53, 46, 51])"
      ]
     },
     "execution_count": 22,
     "metadata": {},
     "output_type": "execute_result"
    }
   ],
   "source": [
    "cell_order_c3 = np.argsort(proj_c3.reshape(1, -1))\n",
    "cell_order_c3_combine = cell_order_c3[0]+max(cell_order_c2_combine23)+1\n",
    "cell_order_c3_combine"
   ]
  },
  {
   "cell_type": "code",
   "execution_count": 23,
   "id": "f3ff3146",
   "metadata": {},
   "outputs": [],
   "source": [
    "pt_x = np.hstack(( cell_order_c1[0],cell_order_c2_combine21,cell_order_c2_combine23,cell_order_c3_combine )).ravel()\n",
    "pt_y = np.concatenate((x1,x2,x3), axis = 0)"
   ]
  },
  {
   "cell_type": "code",
   "execution_count": 24,
   "id": "471bc93b",
   "metadata": {},
   "outputs": [],
   "source": [
    "matrix_ordered = np.concatenate((pt_x.reshape(-1,1), pt_y), axis = 1)"
   ]
  },
  {
   "cell_type": "code",
   "execution_count": 25,
   "id": "e8600482",
   "metadata": {},
   "outputs": [
    {
     "data": {
      "text/plain": [
       "[<matplotlib.lines.Line2D at 0x7fbc8405e100>]"
      ]
     },
     "execution_count": 25,
     "metadata": {},
     "output_type": "execute_result"
    },
    {
     "data": {
      "image/png": "[encoded data removed]",
      "text/plain": [
       "<Figure size 432x288 with 1 Axes>"
      ]
     },
     "metadata": {
      "needs_background": "light"
     },
     "output_type": "display_data"
    }
   ],
   "source": [
    "#plot the pseudotime by x\n",
    "plt.scatter(matrix_ordered[:,0], matrix_ordered[:,1])\n",
    "mx,bx = np.polyfit(matrix_ordered[:,0], matrix_ordered[:,1], 1)\n",
    "plt.plot(matrix_ordered[:,0], mx*matrix_ordered[:,0]+bx)"
   ]
  },
  {
   "cell_type": "code",
   "execution_count": 26,
   "id": "4e1ac7cc",
   "metadata": {},
   "outputs": [
    {
     "data": {
      "text/plain": [
       "[<matplotlib.lines.Line2D at 0x7fbc840bf430>]"
      ]
     },
     "execution_count": 26,
     "metadata": {},
     "output_type": "execute_result"
    },
    {
     "data": {
      "image/png": "[encoded data removed]",
      "text/plain": [
       "<Figure size 432x288 with 1 Axes>"
      ]
     },
     "metadata": {
      "needs_background": "light"
     },
     "output_type": "display_data"
    }
   ],
   "source": [
    "#plot the pseudotime by y\n",
    "plt.scatter(matrix_ordered[:,0], matrix_ordered[:,2])\n",
    "my,by = np.polyfit(matrix_ordered[:,0], matrix_ordered[:,2], 1)\n",
    "plt.plot(matrix_ordered[:,0], my*matrix_ordered[:,0]+by)"
   ]
  },
  {
   "cell_type": "code",
   "execution_count": 27,
   "id": "0310b144",
   "metadata": {},
   "outputs": [],
   "source": [
    "vector12 = centers[0]-centers[1]\n",
    "vector23 = centers[1]-centers[2]"
   ]
  },
  {
   "cell_type": "code",
   "execution_count": 28,
   "id": "fb41de1d",
   "metadata": {},
   "outputs": [],
   "source": [
    "m1 = proj_c1*vector12+centers[0]\n",
    "m21 = np.array(project_value_list21)*vector12+centers[1]\n",
    "m23 = np.array(project_value_list23)*vector23+centers[1]\n",
    "m3 = proj_c3*vector23+centers[2]"
   ]
  },
  {
   "cell_type": "code",
   "execution_count": 29,
   "id": "8ffea84b",
   "metadata": {},
   "outputs": [
    {
     "data": {
      "image/png": "[encoded data removed]",
      "text/plain": [
       "<Figure size 432x288 with 1 Axes>"
      ]
     },
     "metadata": {
      "needs_background": "light"
     },
     "output_type": "display_data"
    }
   ],
   "source": [
    "plt.scatter(m1[:,0], m1[:,1])\n",
    "plt.scatter(m21[:,:,0], m21[:,:,1])\n",
    "plt.scatter(m23[:,:,0], m23[:,:,1])\n",
    "plt.scatter(m3[:,0], m3[:,1])\n",
    "\n",
    "\n",
    "centers = kmeans.cluster_centers_\n",
    "plt.scatter(centers[:, 0], centers[:, 1], c='black', s=200, alpha=0.5)\n",
    "\n",
    "plt.plot(x[0], y[0])\n",
    "plt.plot(x[2], y[2])\n",
    "\n",
    "plt.show()\n"
   ]
  },
  {
   "cell_type": "code",
   "execution_count": 30,
   "id": "519dc12d",
   "metadata": {},
   "outputs": [
    {
     "data": {
      "image/png": "[encoded data removed]",
      "text/plain": [
       "<Figure size 432x288 with 1 Axes>"
      ]
     },
     "metadata": {
      "needs_background": "light"
     },
     "output_type": "display_data"
    }
   ],
   "source": [
    "plt.scatter(m1[:,0], m1[:,1])\n",
    "plt.scatter(m21[:,:,0], m21[:,:,1])\n",
    "plt.scatter(m23[:,:,0], m23[:,:,1])\n",
    "plt.scatter(m3[:,0], m3[:,1])\n",
    "\n",
    "plt.scatter(matrix[:, 0], matrix[:, 1], c=y_kmeans)\n",
    "centers = kmeans.cluster_centers_\n",
    "plt.scatter(centers[:, 0], centers[:, 1], c='black', s=200, alpha=0.5)\n",
    "\n",
    "plt.plot(x[0], y[0])\n",
    "plt.plot(x[2], y[2])\n",
    "\n",
    "plt.show()\n",
    "\n"
   ]
  },
  {
   "cell_type": "code",
   "execution_count": null,
   "id": "f847391d",
   "metadata": {},
   "outputs": [],
   "source": []
  }
 ],
 "metadata": {
  "kernelspec": {
   "display_name": "Python 3 (ipykernel)",
   "language": "python",
   "name": "python3"
  },
  "language_info": {
   "codemirror_mode": {
    "name": "ipython",
    "version": 3
   },
   "file_extension": ".py",
   "mimetype": "text/x-python",
   "name": "python",
   "nbconvert_exporter": "python",
   "pygments_lexer": "ipython3",
   "version": "3.9.7"
  }
 },
 "nbformat": 4,
 "nbformat_minor": 5
}
