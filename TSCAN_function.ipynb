{
 "cells": [
  {
   "cell_type": "code",
   "execution_count": 1,
   "id": "1576e063",
   "metadata": {},
   "outputs": [],
   "source": [
    "import matplotlib.pyplot as plt\n",
    "import numpy as np\n",
    "import pandas as pd\n",
    "from sklearn.cluster import KMeans\n",
    "from scipy.spatial import distance\n",
    "from scipy.sparse import csr_matrix\n",
    "from numpy import transpose"
   ]
  },
  {
   "cell_type": "code",
   "execution_count": 2,
   "id": "071aaa99",
   "metadata": {},
   "outputs": [],
   "source": [
    "def TSCAN(path, X):\n",
    "    \"\"\"function that calculate pseudo time\"\"\"\n",
    "    #project value of the first cluster\n",
    "    v12 = np.array(path[1]).reshape(-1,1) -np.array(path[0]).reshape(-1,1)\n",
    "    x1 = data.loc[labels == 0].values\n",
    "    proj_c1 = (x1 - x1.mean(axis = 0))@v12/(v12.T@v12)\n",
    "    \n",
    "    #project value of the last cluster\n",
    "    v_last = np.array(path[-1]).reshape(-1,1) -np.array(path[-2]).reshape(-1,1)\n",
    "    x_last = data.loc[labels == len(path)-1].values\n",
    "    proj_last = (x_last - x_last.mean(axis = 0))@v_last/(v_last.T@v_last)\n",
    "\n",
    "    #project value of internediate clusters\n",
    "    lists = []\n",
    "    for i in range(1, len(path)-1):\n",
    "        project_value_list_minus = []\n",
    "        project_value_list_add = []\n",
    "\n",
    "        v_minus = np.array(path[i]).reshape(-1,1)-np.array(path[i-1]).reshape(-1,1)\n",
    "        v_add = np.array(path[i+1]).reshape(-1,1)-np.array(path[i]).reshape(-1,1)\n",
    "        for item in X[i]:\n",
    "            d1 = np.linalg.norm(np.array(item) - path[i-1])\n",
    "            d2 = np.linalg.norm(np.array(item) - path[i+1])\n",
    "            xi = np.array(item).reshape(-1,1) - np.array(path[i]).reshape(-1,1)\n",
    "            if d1 < d2:\n",
    "                project_value_minus = (xi.T@(v_minus))/(v_minus.T@v_minus)\n",
    "                project_value_list_minus.append(project_value_minus)\n",
    "                \n",
    "            else:\n",
    "                project_value_add = (xi.T@(v_add))/(v_add.T@v_add)\n",
    "                project_value_list_add.append(project_value_add)\n",
    "                \n",
    "            combine = (project_value_list_minus, project_value_list_add)\n",
    "        lists.append(combine)\n",
    "        flat_lists = list(np.concatenate(lists).flat)\n",
    "        \n",
    "        #remove empty in the list\n",
    "        remove_empty = [x for x in flat_lists if x]\n",
    "        project_value_int = list(np.concatenate(remove_empty).flat)\n",
    "        \n",
    "\n",
    "    #calculate order of by each cluster\n",
    "    order_c1 = np.argsort(proj_c1.reshape(1, -1))\n",
    "    order_c1_list = order_c1[0].tolist()\n",
    "    \n",
    "    cell_order_int = np.argsort(np.array(project_value_int, dtype=object).reshape(1, -1))\n",
    "    order_int = cell_order_int[0] + max(order_c1[0])+1\n",
    "    order_int_list = order_int.tolist()\n",
    "    \n",
    "    \n",
    "    cell_order_last = np.argsort(proj_last.reshape(1, -1))\n",
    "    order_last = cell_order_last[0]+max(order_int)+1\n",
    "    order_last_list = order_last.tolist()\n",
    "    \n",
    "    \n",
    "    \n",
    "    orders_combine = order_c1_list + order_int_list + order_last_list\n",
    "    orders = np.transpose(orders_combine)\n",
    "        \n",
    "    return orders\n",
    "        \n"
   ]
  },
  {
   "cell_type": "code",
   "execution_count": null,
   "id": "68293dd7",
   "metadata": {},
   "outputs": [],
   "source": []
  },
  {
   "cell_type": "code",
   "execution_count": 3,
   "id": "070b8e95",
   "metadata": {},
   "outputs": [],
   "source": [
    "data = pd.read_csv(\"matrixnby2.csv\")\n",
    "matrix = np.array(data)\n",
    "kmeans = KMeans(n_clusters=4)\n",
    "kmeans.fit(matrix)\n",
    "y_kmeans = kmeans.predict(matrix)"
   ]
  },
  {
   "cell_type": "code",
   "execution_count": 4,
   "id": "932441f7",
   "metadata": {},
   "outputs": [
    {
     "data": {
      "text/plain": [
       "array([[224.63789116, 194.72322871],\n",
       "       [441.67149244,  68.28088238],\n",
       "       [193.58825651,  84.23011483],\n",
       "       [343.50471396,  47.17283803]])"
      ]
     },
     "execution_count": 4,
     "metadata": {},
     "output_type": "execute_result"
    }
   ],
   "source": [
    "path = kmeans.cluster_centers_\n",
    "path"
   ]
  },
  {
   "cell_type": "code",
   "execution_count": 5,
   "id": "bb2ba572",
   "metadata": {},
   "outputs": [
    {
     "data": {
      "text/plain": [
       "array([2, 2, 2, 2, 2, 2, 0, 0, 0, 0, 0, 0, 2, 0, 2, 2, 2, 0, 0, 0, 2, 2,\n",
       "       2, 2, 2, 1, 1, 3, 1, 1, 1, 1, 3, 3, 1, 1, 1, 1, 1, 3, 1, 1, 1, 1,\n",
       "       1, 1, 3, 3, 3, 3, 1, 1, 3, 1, 1], dtype=int32)"
      ]
     },
     "execution_count": 5,
     "metadata": {},
     "output_type": "execute_result"
    }
   ],
   "source": [
    "labels = kmeans.labels_\n",
    "labels"
   ]
  },
  {
   "cell_type": "code",
   "execution_count": 6,
   "id": "1bb8b5e8",
   "metadata": {},
   "outputs": [],
   "source": [
    "c1_points_position = list(np.where(labels == 0)[0])\n",
    "c2_points_position = list(np.where(labels == 1)[0])\n",
    "c3_points_position = list(np.where(labels == 2)[0])\n",
    "c4_points_position = list(np.where(labels == 3)[0])\n",
    "\n",
    "\n",
    "x1 = [matrix[ele] for ele in c1_points_position ]\n",
    "x2 = [matrix[ele] for ele in c2_points_position ]\n",
    "x3 = [matrix[ele] for ele in c3_points_position ]\n",
    "x4 = [matrix[ele] for ele in c4_points_position ]\n"
   ]
  },
  {
   "cell_type": "code",
   "execution_count": 7,
   "id": "3c492d24",
   "metadata": {},
   "outputs": [],
   "source": [
    "X=(x1,x2,x3,x4)\n"
   ]
  },
  {
   "cell_type": "code",
   "execution_count": 8,
   "id": "c3f47059",
   "metadata": {},
   "outputs": [
    {
     "name": "stderr",
     "output_type": "stream",
     "text": [
      "<__array_function__ internals>:5: VisibleDeprecationWarning: Creating an ndarray from ragged nested sequences (which is a list-or-tuple of lists-or-tuples-or ndarrays with different lengths or shapes) is deprecated. If you meant to do this, you must specify 'dtype=object' when creating the ndarray.\n"
     ]
    },
    {
     "data": {
      "text/plain": [
       "array([ 7,  3,  4,  2,  1,  8,  0,  5,  6,  9, 34, 32, 29, 16, 31, 27, 33,\n",
       "       21, 14, 35, 15, 13, 12, 20, 25, 10, 17, 44, 11, 22, 45, 24, 37, 26,\n",
       "       36, 19, 43, 23, 39, 41, 30, 28, 40, 18, 42, 38, 51, 47, 46, 49, 53,\n",
       "       48, 50, 54, 52])"
      ]
     },
     "execution_count": 8,
     "metadata": {},
     "output_type": "execute_result"
    }
   ],
   "source": [
    "TSCAN(path, X)"
   ]
  },
  {
   "cell_type": "code",
   "execution_count": null,
   "id": "4c1e8a69",
   "metadata": {},
   "outputs": [],
   "source": []
  }
 ],
 "metadata": {
  "kernelspec": {
   "display_name": "Python 3 (ipykernel)",
   "language": "python",
   "name": "python3"
  },
  "language_info": {
   "codemirror_mode": {
    "name": "ipython",
    "version": 3
   },
   "file_extension": ".py",
   "mimetype": "text/x-python",
   "name": "python",
   "nbconvert_exporter": "python",
   "pygments_lexer": "ipython3",
   "version": "3.9.7"
  }
 },
 "nbformat": 4,
 "nbformat_minor": 5
}
