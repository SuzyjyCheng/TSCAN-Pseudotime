{
 "cells": [
  {
   "cell_type": "code",
   "execution_count": 1,
   "id": "1576e063",
   "metadata": {},
   "outputs": [],
   "source": [
    "import matplotlib.pyplot as plt\n",
    "import numpy as np\n",
    "import pandas as pd\n",
    "from sklearn.cluster import KMeans\n",
    "from scipy.spatial import distance\n",
    "from scipy.sparse import csr_matrix\n",
    "from numpy import transpose"
   ]
  },
  {
   "cell_type": "code",
   "execution_count": 2,
   "id": "071aaa99",
   "metadata": {},
   "outputs": [],
   "source": [
    "def TSCAN(path, X):\n",
    "    v12 = np.array(path[1]).reshape(-1,1) -np.array(path[0]).reshape(-1,1)\n",
    "    project_value_list1 = []\n",
    "    for item in X[0]:\n",
    "        x1 = np.array(item).reshape(-1,1)  - np.array(path[0]).reshape(-1,1)\n",
    "        project_value1 = (x1.T@(v12))/(v12.T@v12) \n",
    "        project_value_list1.append(project_value1)\n",
    "\n",
    "    \n",
    "    v_last = np.array(path[-1]).reshape(-1,1)-np.array(path[-2]).reshape(-1,1)\n",
    "    project_value_list_last = []\n",
    "    for item in X[-1]:\n",
    "        x_last = np.array(item).reshape(-1,1)  - np.array(path[-1]).reshape(-1,1)\n",
    "        project_value_last = (x_last.T@(v_last))/(v_last.T@v_last) \n",
    "        project_value_list_last.append(project_value_last)\n",
    "\n",
    "    lists = []\n",
    "    for i in range(1, len(path)-1):\n",
    "        project_value_list_minus = []\n",
    "        project_value_list_add = []\n",
    "\n",
    "        v_minus = np.array(path[i]).reshape(-1,1)-np.array(path[i-1]).reshape(-1,1)\n",
    "        v_add = np.array(path[i+1]).reshape(-1,1)-np.array(path[i]).reshape(-1,1)\n",
    "        for item in X[i]:\n",
    "            d1 = np.linalg.norm(np.array(item) - path[i-1])\n",
    "            d2 = np.linalg.norm(np.array(item) - path[i+1])\n",
    "            xi = np.array(item).reshape(-1,1) - np.array(path[i]).reshape(-1,1)\n",
    "            if d1 < d2:\n",
    "                project_value_minus = (xi.T@(v_minus))/(v_minus.T@v_minus)\n",
    "                project_value_list_minus.append(project_value_minus)\n",
    "                \n",
    "            else:\n",
    "                project_value_add = (xi.T@(v_add))/(v_add.T@v_add)\n",
    "                project_value_list_add.append(project_value_add)\n",
    "                \n",
    "            combine = (project_value_list_minus, project_value_list_add)\n",
    "        lists.append(combine)\n",
    "        flat_lists = list(np.concatenate(lists).flat)\n",
    "        remove_empty = [x for x in flat_lists if x]\n",
    "        project_value_int = list(np.concatenate(remove_empty).flat)\n",
    "        \n",
    "\n",
    "        \n",
    "    order_c1 = np.argsort(np.array(project_value_list1).reshape(1, -1))\n",
    "    order_c1_list = order_c1[0].tolist()\n",
    "    \n",
    "    cell_order_int = np.argsort(np.array(project_value_int, dtype=object).reshape(1, -1))\n",
    "    order_int = cell_order_int[0] + max(order_c1[0])\n",
    "    order_int_list = order_int.tolist()\n",
    "    \n",
    "    \n",
    "    cell_order_last = np.argsort(np.array(project_value_list_last,dtype=object).reshape(1, -1))\n",
    "    order_last = cell_order_last[0]+max(order_int)\n",
    "    order_last_list = order_last.tolist()\n",
    "    \n",
    "    \n",
    "    \n",
    "    orders_combine = order_c1_list + order_int_list + order_last_list\n",
    "    orders = np.transpose(orders_combine)\n",
    "        \n",
    "    return orders\n",
    "        \n"
   ]
  },
  {
   "cell_type": "code",
   "execution_count": null,
   "id": "68293dd7",
   "metadata": {},
   "outputs": [],
   "source": []
  },
  {
   "cell_type": "code",
   "execution_count": 3,
   "id": "070b8e95",
   "metadata": {},
   "outputs": [],
   "source": [
    "data = pd.read_csv(\"matrixnby2.csv\")\n",
    "matrix = np.array(data)\n",
    "kmeans = KMeans(n_clusters=4)\n",
    "kmeans.fit(matrix)\n",
    "y_kmeans = kmeans.predict(matrix)"
   ]
  },
  {
   "cell_type": "code",
   "execution_count": 4,
   "id": "932441f7",
   "metadata": {},
   "outputs": [
    {
     "data": {
      "text/plain": [
       "array([[399.11798842,  91.52706719],\n",
       "       [193.65413298,  65.39694807],\n",
       "       [222.27945767, 174.99617564],\n",
       "       [445.17824832,  16.99463969]])"
      ]
     },
     "execution_count": 4,
     "metadata": {},
     "output_type": "execute_result"
    }
   ],
   "source": [
    "path = kmeans.cluster_centers_\n",
    "path"
   ]
  },
  {
   "cell_type": "code",
   "execution_count": 5,
   "id": "31892d90",
   "metadata": {},
   "outputs": [
    {
     "data": {
      "text/plain": [
       "array([1, 1, 1, 1, 1, 2, 2, 2, 2, 2, 2, 2, 2, 2, 1, 1, 1, 2, 2, 2, 1, 1,\n",
       "       2, 2, 1, 0, 3, 0, 0, 3, 0, 0, 0, 0, 3, 3, 0, 0, 3, 3, 3, 0, 0, 3,\n",
       "       0, 0, 0, 1, 3, 0, 0, 3, 0, 0, 3], dtype=int32)"
      ]
     },
     "execution_count": 5,
     "metadata": {},
     "output_type": "execute_result"
    }
   ],
   "source": [
    "labels = kmeans.labels_\n",
    "labels"
   ]
  },
  {
   "cell_type": "code",
   "execution_count": 6,
   "id": "1bb8b5e8",
   "metadata": {},
   "outputs": [],
   "source": [
    "c1_points_position = list(np.where(labels == 0)[0])\n",
    "c2_points_position = list(np.where(labels == 1)[0])\n",
    "c3_points_position = list(np.where(labels == 2)[0])\n",
    "c4_points_position = list(np.where(labels == 3)[0])\n",
    "\n",
    "\n",
    "x1 = [matrix[ele] for ele in c1_points_position ]\n",
    "x2 = [matrix[ele] for ele in c2_points_position ]\n",
    "x3 = [matrix[ele] for ele in c3_points_position ]\n",
    "x4 = [matrix[ele] for ele in c4_points_position ]\n"
   ]
  },
  {
   "cell_type": "code",
   "execution_count": 7,
   "id": "3c492d24",
   "metadata": {},
   "outputs": [],
   "source": [
    "X=(x1,x2,x3,x4)\n"
   ]
  },
  {
   "cell_type": "code",
   "execution_count": 9,
   "id": "c3f47059",
   "metadata": {},
   "outputs": [
    {
     "data": {
      "text/plain": [
       "array([ 2, 10,  0, 15,  4,  3, 12,  9,  8,  7, 17, 11, 16,  6, 14,  1, 13,\n",
       "        5, 22, 21, 36, 42, 20, 17, 41, 29, 18, 39, 35, 34, 27, 37, 40, 23,\n",
       "       30, 31, 28, 24, 38, 25, 32, 26, 19, 33, 47, 42, 50, 46, 45, 43, 48,\n",
       "       44, 52, 49, 51])"
      ]
     },
     "execution_count": 9,
     "metadata": {},
     "output_type": "execute_result"
    }
   ],
   "source": [
    "TSCAN(path, X)"
   ]
  },
  {
   "cell_type": "code",
   "execution_count": null,
   "id": "64861df7",
   "metadata": {},
   "outputs": [],
   "source": []
  }
 ],
 "metadata": {
  "kernelspec": {
   "display_name": "Python 3 (ipykernel)",
   "language": "python",
   "name": "python3"
  },
  "language_info": {
   "codemirror_mode": {
    "name": "ipython",
    "version": 3
   },
   "file_extension": ".py",
   "mimetype": "text/x-python",
   "name": "python",
   "nbconvert_exporter": "python",
   "pygments_lexer": "ipython3",
   "version": "3.9.7"
  }
 },
 "nbformat": 4,
 "nbformat_minor": 5
}
