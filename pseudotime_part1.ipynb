{
 "cells": [
  {
   "cell_type": "code",
   "execution_count": 125,
   "id": "139bf6da",
   "metadata": {},
   "outputs": [],
   "source": [
    "import matplotlib.pyplot as plt\n",
    "import numpy as np"
   ]
  },
  {
   "cell_type": "code",
   "execution_count": 126,
   "id": "ab7b267d",
   "metadata": {},
   "outputs": [],
   "source": [
    "center1 = (100, 90)\n",
    "center2 = (200, 150)\n",
    "center3 = (400, 50)\n",
    "distance = 50\n",
    "\n",
    "x1 = np.random.uniform(center1[0], center1[0] + distance, size=(5,))\n",
    "y1 = np.random.normal(center1[1], distance, size=(5,))\n",
    "\n",
    "x2 = np.random.uniform(center2[0], center2[0] + distance, size=(20,))\n",
    "y2 = np.random.normal(center2[1], distance, size=(20,))\n",
    "\n",
    "x3 = np.random.normal(center3[0], distance, size=(30,))\n",
    "y3 = np.random.normal(center3[1], distance, size=(30,))"
   ]
  },
  {
   "cell_type": "code",
   "execution_count": 127,
   "id": "87834950",
   "metadata": {},
   "outputs": [],
   "source": [
    "points1 = [list(pair) for pair in zip(x1, y1)]\n",
    "points2 = [list(pair) for pair in zip(x2, y2)]\n",
    "points3 = [list(pair) for pair in zip(x3, y3)]\n",
    "list_of_lists = points1 + points2 + points3\n",
    "matrix = np.array(list_of_lists)"
   ]
  },
  {
   "cell_type": "code",
   "execution_count": null,
   "id": "979784f9",
   "metadata": {},
   "outputs": [],
   "source": []
  },
  {
   "cell_type": "code",
   "execution_count": null,
   "id": "7fd7e99d",
   "metadata": {},
   "outputs": [],
   "source": []
  }
 ],
 "metadata": {
  "kernelspec": {
   "display_name": "Python 3 (ipykernel)",
   "language": "python",
   "name": "python3"
  },
  "language_info": {
   "codemirror_mode": {
    "name": "ipython",
    "version": 3
   },
   "file_extension": ".py",
   "mimetype": "text/x-python",
   "name": "python",
   "nbconvert_exporter": "python",
   "pygments_lexer": "ipython3",
   "version": "3.9.7"
  }
 },
 "nbformat": 4,
 "nbformat_minor": 5
}
